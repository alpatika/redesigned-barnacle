{
 "cells": [
  {
   "cell_type": "markdown",
   "id": "e4ad4d8a",
   "metadata": {},
   "source": [
    "# Исследование определяющих популярность критериев компьютерных игр"
   ]
  },
  {
   "cell_type": "markdown",
   "id": "bfd43cbb",
   "metadata": {},
   "source": [
    "**Цель исследования:** Выявить определяющие успешность игры закономерности. Они позволят сделать ставку на потенциально популярный продукт и спланировать рекламные кампании.\n",
    "\n",
    "**Исходные данные:** Из открытых источников доступны исторические данные о продажах игр, оценки пользователей и экспертов, жанры и платформы. В датасете представлены данные до 2016 года включительно. *Предполагается, что анализ производится на 2017 год.*\n",
    "\n",
    "- `name` — название игры\n",
    "- `platform` — платформа\n",
    "- `year_of_Release` — год выпуска\n",
    "- `genre` — жанр игры\n",
    "- `NA_sales` — продажи в Северной Америке (миллионы проданных копий)\n",
    "- `EU_sales` — продажи в Европе (миллионы проданных копий)\n",
    "- `JP_sales` — продажи в Японии (миллионы проданных копий)\n",
    "- `other_sales` — продажи в других странах (миллионы проданных копий)\n",
    "- `critic_Score` — оценка критиков (максимум 100)\n",
    "- `user_Score` — оценка пользователей (максимум 10)\n",
    "- `rating` — рейтинг от организации ESRB (возрастная категория)"
   ]
  },
  {
   "cell_type": "markdown",
   "id": "bf70cac8",
   "metadata": {},
   "source": [
    "**Содержание:**\n",
    "* [1. Первичный обзор данных](#1-Первичный-обзор-данных)\n",
    "* [2. Переработка данных](#2-Переработка-данных)\n",
    "    * [2.1 Замена названий столбцов](#2.1-Приведение-названий-столбцов-к-змеиному-регистру)\n",
    "    * [2.2 Изменение типов данных](#2.2-Изменение-типов-данных)\n",
    "    * [2.3 Работа с дубликатами](#2.3-Работа-с-дубликатами)\n",
    "    * [2.4 Добавление новых столбцов](#2.4-Добавление-новых-столбцов)\n",
    "    * [2.5 Заполнение пропусков](#2.5-Заполнение-пропусков)\n",
    "* [3. Исследовательский анализ данных](#3-Исследовательский-анализ-данных)\n",
    "    * [3.1 Количество релизов по годам](#3.1-Исследование-количества-релизов-по-годам)\n",
    "    * [3.2 Популярность платформ](#3.2-Исследование-популярности-платформ)\n",
    "    * [3.3 Влияние оценок игроков и критиков](#3.3-Исследование-влияния-отзывов-пользователей-и-критиков-на-продажи)\n",
    "    * [3.4 Жанровые предпочтения](#3.4-Исследование-жанровых-предпочтений)\n",
    "* [4. Портреты пользователя каждого региона](#4-Составление-портрета-пользователя-каждого-региона)\n",
    "    * [4.1 Северная Америка](#4.1-Исследование-региона-Северная-Америка-(NA))\n",
    "    * [4.2 Европа](#4.2-Исследование-региона-Европа-(EU))\n",
    "    * [4.3 Япония](#4.3-Исследование-региона-Япония-(JP))\n",
    "* [5. Проверка гипотез](#5-Проверка-гипотез)\n",
    "* [Выводы по работе](#Общие-выводы)"
   ]
  },
  {
   "cell_type": "markdown",
   "id": "60e81d6c",
   "metadata": {},
   "source": [
    "## 1 Первичный обзор данных"
   ]
  },
  {
   "cell_type": "code",
   "execution_count": 2,
   "id": "b632d449",
   "metadata": {},
   "outputs": [],
   "source": [
    "import pandas as pd\n",
    "import numpy as np\n",
    "import seaborn as sns\n",
    "import matplotlib.pyplot as plt\n",
    "from scipy import stats as st"
   ]
  },
  {
   "cell_type": "code",
   "execution_count": 3,
   "id": "9093bc00",
   "metadata": {},
   "outputs": [
    {
     "name": "stdout",
     "output_type": "stream",
     "text": [
      "1.4.2\n"
     ]
    }
   ],
   "source": [
    "print (pd.__version__)"
   ]
  },
  {
   "cell_type": "code",
   "execution_count": 4,
   "id": "b49d3e93",
   "metadata": {
    "scrolled": true
   },
   "outputs": [
    {
     "data": {
      "text/html": [
       "<div>\n",
       "<style scoped>\n",
       "    .dataframe tbody tr th:only-of-type {\n",
       "        vertical-align: middle;\n",
       "    }\n",
       "\n",
       "    .dataframe tbody tr th {\n",
       "        vertical-align: top;\n",
       "    }\n",
       "\n",
       "    .dataframe thead th {\n",
       "        text-align: right;\n",
       "    }\n",
       "</style>\n",
       "<table border=\"1\" class=\"dataframe\">\n",
       "  <thead>\n",
       "    <tr style=\"text-align: right;\">\n",
       "      <th></th>\n",
       "      <th>Name</th>\n",
       "      <th>Platform</th>\n",
       "      <th>Year_of_Release</th>\n",
       "      <th>Genre</th>\n",
       "      <th>NA_sales</th>\n",
       "      <th>EU_sales</th>\n",
       "      <th>JP_sales</th>\n",
       "      <th>Other_sales</th>\n",
       "      <th>Critic_Score</th>\n",
       "      <th>User_Score</th>\n",
       "      <th>Rating</th>\n",
       "    </tr>\n",
       "  </thead>\n",
       "  <tbody>\n",
       "    <tr>\n",
       "      <th>0</th>\n",
       "      <td>Wii Sports</td>\n",
       "      <td>Wii</td>\n",
       "      <td>2006.0</td>\n",
       "      <td>Sports</td>\n",
       "      <td>41.36</td>\n",
       "      <td>28.96</td>\n",
       "      <td>3.77</td>\n",
       "      <td>8.45</td>\n",
       "      <td>76.0</td>\n",
       "      <td>8</td>\n",
       "      <td>E</td>\n",
       "    </tr>\n",
       "    <tr>\n",
       "      <th>1</th>\n",
       "      <td>Super Mario Bros.</td>\n",
       "      <td>NES</td>\n",
       "      <td>1985.0</td>\n",
       "      <td>Platform</td>\n",
       "      <td>29.08</td>\n",
       "      <td>3.58</td>\n",
       "      <td>6.81</td>\n",
       "      <td>0.77</td>\n",
       "      <td>NaN</td>\n",
       "      <td>NaN</td>\n",
       "      <td>NaN</td>\n",
       "    </tr>\n",
       "    <tr>\n",
       "      <th>2</th>\n",
       "      <td>Mario Kart Wii</td>\n",
       "      <td>Wii</td>\n",
       "      <td>2008.0</td>\n",
       "      <td>Racing</td>\n",
       "      <td>15.68</td>\n",
       "      <td>12.76</td>\n",
       "      <td>3.79</td>\n",
       "      <td>3.29</td>\n",
       "      <td>82.0</td>\n",
       "      <td>8.3</td>\n",
       "      <td>E</td>\n",
       "    </tr>\n",
       "    <tr>\n",
       "      <th>3</th>\n",
       "      <td>Wii Sports Resort</td>\n",
       "      <td>Wii</td>\n",
       "      <td>2009.0</td>\n",
       "      <td>Sports</td>\n",
       "      <td>15.61</td>\n",
       "      <td>10.93</td>\n",
       "      <td>3.28</td>\n",
       "      <td>2.95</td>\n",
       "      <td>80.0</td>\n",
       "      <td>8</td>\n",
       "      <td>E</td>\n",
       "    </tr>\n",
       "    <tr>\n",
       "      <th>4</th>\n",
       "      <td>Pokemon Red/Pokemon Blue</td>\n",
       "      <td>GB</td>\n",
       "      <td>1996.0</td>\n",
       "      <td>Role-Playing</td>\n",
       "      <td>11.27</td>\n",
       "      <td>8.89</td>\n",
       "      <td>10.22</td>\n",
       "      <td>1.00</td>\n",
       "      <td>NaN</td>\n",
       "      <td>NaN</td>\n",
       "      <td>NaN</td>\n",
       "    </tr>\n",
       "    <tr>\n",
       "      <th>5</th>\n",
       "      <td>Tetris</td>\n",
       "      <td>GB</td>\n",
       "      <td>1989.0</td>\n",
       "      <td>Puzzle</td>\n",
       "      <td>23.20</td>\n",
       "      <td>2.26</td>\n",
       "      <td>4.22</td>\n",
       "      <td>0.58</td>\n",
       "      <td>NaN</td>\n",
       "      <td>NaN</td>\n",
       "      <td>NaN</td>\n",
       "    </tr>\n",
       "    <tr>\n",
       "      <th>6</th>\n",
       "      <td>New Super Mario Bros.</td>\n",
       "      <td>DS</td>\n",
       "      <td>2006.0</td>\n",
       "      <td>Platform</td>\n",
       "      <td>11.28</td>\n",
       "      <td>9.14</td>\n",
       "      <td>6.50</td>\n",
       "      <td>2.88</td>\n",
       "      <td>89.0</td>\n",
       "      <td>8.5</td>\n",
       "      <td>E</td>\n",
       "    </tr>\n",
       "    <tr>\n",
       "      <th>7</th>\n",
       "      <td>Wii Play</td>\n",
       "      <td>Wii</td>\n",
       "      <td>2006.0</td>\n",
       "      <td>Misc</td>\n",
       "      <td>13.96</td>\n",
       "      <td>9.18</td>\n",
       "      <td>2.93</td>\n",
       "      <td>2.84</td>\n",
       "      <td>58.0</td>\n",
       "      <td>6.6</td>\n",
       "      <td>E</td>\n",
       "    </tr>\n",
       "    <tr>\n",
       "      <th>8</th>\n",
       "      <td>New Super Mario Bros. Wii</td>\n",
       "      <td>Wii</td>\n",
       "      <td>2009.0</td>\n",
       "      <td>Platform</td>\n",
       "      <td>14.44</td>\n",
       "      <td>6.94</td>\n",
       "      <td>4.70</td>\n",
       "      <td>2.24</td>\n",
       "      <td>87.0</td>\n",
       "      <td>8.4</td>\n",
       "      <td>E</td>\n",
       "    </tr>\n",
       "    <tr>\n",
       "      <th>9</th>\n",
       "      <td>Duck Hunt</td>\n",
       "      <td>NES</td>\n",
       "      <td>1984.0</td>\n",
       "      <td>Shooter</td>\n",
       "      <td>26.93</td>\n",
       "      <td>0.63</td>\n",
       "      <td>0.28</td>\n",
       "      <td>0.47</td>\n",
       "      <td>NaN</td>\n",
       "      <td>NaN</td>\n",
       "      <td>NaN</td>\n",
       "    </tr>\n",
       "  </tbody>\n",
       "</table>\n",
       "</div>"
      ],
      "text/plain": [
       "                        Name Platform  Year_of_Release         Genre  \\\n",
       "0                 Wii Sports      Wii           2006.0        Sports   \n",
       "1          Super Mario Bros.      NES           1985.0      Platform   \n",
       "2             Mario Kart Wii      Wii           2008.0        Racing   \n",
       "3          Wii Sports Resort      Wii           2009.0        Sports   \n",
       "4   Pokemon Red/Pokemon Blue       GB           1996.0  Role-Playing   \n",
       "5                     Tetris       GB           1989.0        Puzzle   \n",
       "6      New Super Mario Bros.       DS           2006.0      Platform   \n",
       "7                   Wii Play      Wii           2006.0          Misc   \n",
       "8  New Super Mario Bros. Wii      Wii           2009.0      Platform   \n",
       "9                  Duck Hunt      NES           1984.0       Shooter   \n",
       "\n",
       "   NA_sales  EU_sales  JP_sales  Other_sales  Critic_Score User_Score Rating  \n",
       "0     41.36     28.96      3.77         8.45          76.0          8      E  \n",
       "1     29.08      3.58      6.81         0.77           NaN        NaN    NaN  \n",
       "2     15.68     12.76      3.79         3.29          82.0        8.3      E  \n",
       "3     15.61     10.93      3.28         2.95          80.0          8      E  \n",
       "4     11.27      8.89     10.22         1.00           NaN        NaN    NaN  \n",
       "5     23.20      2.26      4.22         0.58           NaN        NaN    NaN  \n",
       "6     11.28      9.14      6.50         2.88          89.0        8.5      E  \n",
       "7     13.96      9.18      2.93         2.84          58.0        6.6      E  \n",
       "8     14.44      6.94      4.70         2.24          87.0        8.4      E  \n",
       "9     26.93      0.63      0.28         0.47           NaN        NaN    NaN  "
      ]
     },
     "execution_count": 4,
     "metadata": {},
     "output_type": "execute_result"
    }
   ],
   "source": [
    "try:\n",
    "    df = pd.read_csv('games.csv')\n",
    "except:\n",
    "    df = pd.read_csv('https://code.s3.yandex.net/datasets/games.csv')\n",
    "\n",
    "#df = pd.read_csv('/datasets/games.csv')\n",
    "\n",
    "df.head(10)"
   ]
  },
  {
   "cell_type": "code",
   "execution_count": 5,
   "id": "0548347f",
   "metadata": {},
   "outputs": [
    {
     "name": "stdout",
     "output_type": "stream",
     "text": [
      "<class 'pandas.core.frame.DataFrame'>\n",
      "RangeIndex: 16715 entries, 0 to 16714\n",
      "Data columns (total 11 columns):\n",
      " #   Column           Non-Null Count  Dtype  \n",
      "---  ------           --------------  -----  \n",
      " 0   Name             16713 non-null  object \n",
      " 1   Platform         16715 non-null  object \n",
      " 2   Year_of_Release  16446 non-null  float64\n",
      " 3   Genre            16713 non-null  object \n",
      " 4   NA_sales         16715 non-null  float64\n",
      " 5   EU_sales         16715 non-null  float64\n",
      " 6   JP_sales         16715 non-null  float64\n",
      " 7   Other_sales      16715 non-null  float64\n",
      " 8   Critic_Score     8137 non-null   float64\n",
      " 9   User_Score       10014 non-null  object \n",
      " 10  Rating           9949 non-null   object \n",
      "dtypes: float64(6), object(5)\n",
      "memory usage: 1.4+ MB\n"
     ]
    }
   ],
   "source": [
    "df.info()"
   ]
  },
  {
   "cell_type": "code",
   "execution_count": 6,
   "id": "eca72596",
   "metadata": {},
   "outputs": [
    {
     "data": {
      "image/png": "[encoded data removed]",
      "text/plain": [
       "<Figure size 1080x720 with 6 Axes>"
      ]
     },
     "metadata": {
      "needs_background": "light"
     },
     "output_type": "display_data"
    }
   ],
   "source": [
    "df.hist(figsize = (15, 10));"
   ]
  },
  {
   "cell_type": "markdown",
   "id": "42a14bdb",
   "metadata": {},
   "source": [
    "**Промежуточные итоги:** Датафрейм содержит 11 столбцов, 16715 строк. В нем представлены данные о годе релиза игры, её продажах в разных регионах, а также оценки критиков. На гистограммах продаж большинство значений сосредоточены в начале координат: остальные могут быть как выбросами, так и данными о крайне успешных играх. Прежде чем приступить к исследовательскому анализу, данные необходимо переработать."
   ]
  },
  {
   "cell_type": "markdown",
   "id": "cd307c6e",
   "metadata": {},
   "source": [
    "## 2 Переработка данных"
   ]
  },
  {
   "cell_type": "markdown",
   "id": "bd83f5bc",
   "metadata": {},
   "source": [
    "На этапе первичного обзора данных было выявлено:\n",
    "- названия столбцов не соответствуют змеиному регистру \n",
    "- в столбцах `Year_of_Release` и `User_Score` неверный тип данных\n",
    "- в данных содержатся пропуски\n",
    "- данные о продажах могут содержать выбросы\n",
    "- возможно, столбцы `Platform` и `Genre` могут содержать неявные дубликаты?"
   ]
  },
  {
   "cell_type": "markdown",
   "id": "f0a08aac",
   "metadata": {},
   "source": [
    "### 2.1 Приведение названий столбцов к змеиному регистру"
   ]
  },
  {
   "cell_type": "code",
   "execution_count": 7,
   "id": "34b597e5",
   "metadata": {},
   "outputs": [],
   "source": [
    "df.columns = ['name', 'platform', 'year_of_release', 'genr', 'NA_sales', \n",
    "              'EU_sales', 'JP_sales', 'other_sales', 'critic_score', 'user_score', 'rating']"
   ]
  },
  {
   "cell_type": "markdown",
   "id": "8a27cef8",
   "metadata": {},
   "source": [
    "### 2.2 Изменение типов данных"
   ]
  },
  {
   "cell_type": "code",
   "execution_count": 8,
   "id": "271abfb8",
   "metadata": {},
   "outputs": [
    {
     "name": "stderr",
     "output_type": "stream",
     "text": [
      "C:\\Users\\User\\AppData\\Local\\Temp\\ipykernel_14500\\696811610.py:16: SettingWithCopyWarning: \n",
      "A value is trying to be set on a copy of a slice from a DataFrame.\n",
      "Try using .loc[row_indexer,col_indexer] = value instead\n",
      "\n",
      "See the caveats in the documentation: https://pandas.pydata.org/pandas-docs/stable/user_guide/indexing.html#returning-a-view-versus-a-copy\n",
      "  data['year_of_release'] = data['year_of_release'].astype('int32')\n"
     ]
    }
   ],
   "source": [
    "df['user_score'].unique()\n",
    "df.query('user_score == \"tbd\"').shape[0]\n",
    "\n",
    "# tbd - to be determined, то есть рейтинг пока не определён, значит, это фактически NaN\n",
    "\n",
    "df.loc[df['user_score'] == 'tbd', 'user_score'] = np.nan\n",
    "df['user_score'].unique()\n",
    "df['user_score'] = df['user_score'].astype('float')\n",
    "\n",
    "df.query('year_of_release.isna()').head(20)\n",
    "\n",
    "# у всех игр без указанного года выпуска очень низкие продажи, значит, \n",
    "# эти строки не так важны для анализа и их можно удалить\n",
    "\n",
    "data = df.dropna(subset = ['year_of_release', 'name', 'genr'])\n",
    "data['year_of_release'] = data['year_of_release'].astype('int32')"
   ]
  },
  {
   "cell_type": "markdown",
   "id": "00b25269",
   "metadata": {},
   "source": [
    "### 2.3 Работа с дубликатами"
   ]
  },
  {
   "cell_type": "code",
   "execution_count": 8,
   "id": "da14182f",
   "metadata": {},
   "outputs": [
    {
     "data": {
      "text/plain": [
       "0"
      ]
     },
     "execution_count": 8,
     "metadata": {},
     "output_type": "execute_result"
    }
   ],
   "source": [
    "data.duplicated().sum()"
   ]
  },
  {
   "cell_type": "code",
   "execution_count": 9,
   "id": "90563fc1",
   "metadata": {},
   "outputs": [
    {
     "name": "stdout",
     "output_type": "stream",
     "text": [
      "Платформы:  ['Wii' 'NES' 'GB' 'DS' 'X360' 'PS3' 'PS2' 'SNES' 'GBA' 'PS4' '3DS' 'N64'\n",
      " 'PS' 'XB' 'PC' '2600' 'PSP' 'XOne' 'WiiU' 'GC' 'GEN' 'DC' 'PSV' 'SAT'\n",
      " 'SCD' 'WS' 'NG' 'TG16' '3DO' 'GG' 'PCFX'] \n",
      "\n",
      "Жанры:  ['Sports' 'Platform' 'Racing' 'Role-Playing' 'Puzzle' 'Misc' 'Shooter'\n",
      " 'Simulation' 'Action' 'Fighting' 'Adventure' 'Strategy']\n"
     ]
    }
   ],
   "source": [
    "print('Платформы: ', data['platform'].unique(), '\\n')\n",
    "print('Жанры: ', data['genr'].unique())"
   ]
  },
  {
   "cell_type": "markdown",
   "id": "1fa09be2",
   "metadata": {},
   "source": [
    "Можно сделать вывод, что данные не содержат явных и неявных дубликатов."
   ]
  },
  {
   "cell_type": "markdown",
   "id": "aecb8c3c",
   "metadata": {},
   "source": [
    "### 2.4 Добавление новых столбцов"
   ]
  },
  {
   "cell_type": "code",
   "execution_count": 10,
   "id": "ff8fb545",
   "metadata": {
    "scrolled": false
   },
   "outputs": [
    {
     "name": "stderr",
     "output_type": "stream",
     "text": [
      "/tmp/ipykernel_48/2024960283.py:1: SettingWithCopyWarning: \n",
      "A value is trying to be set on a copy of a slice from a DataFrame.\n",
      "Try using .loc[row_indexer,col_indexer] = value instead\n",
      "\n",
      "See the caveats in the documentation: https://pandas.pydata.org/pandas-docs/stable/user_guide/indexing.html#returning-a-view-versus-a-copy\n",
      "  data['all_sales'] = data[['NA_sales','EU_sales','JP_sales', 'other_sales']].sum(axis = 1)\n"
     ]
    },
    {
     "data": {
      "text/html": [
       "<div>\n",
       "<style scoped>\n",
       "    .dataframe tbody tr th:only-of-type {\n",
       "        vertical-align: middle;\n",
       "    }\n",
       "\n",
       "    .dataframe tbody tr th {\n",
       "        vertical-align: top;\n",
       "    }\n",
       "\n",
       "    .dataframe thead th {\n",
       "        text-align: right;\n",
       "    }\n",
       "</style>\n",
       "<table border=\"1\" class=\"dataframe\">\n",
       "  <thead>\n",
       "    <tr style=\"text-align: right;\">\n",
       "      <th></th>\n",
       "      <th>name</th>\n",
       "      <th>platform</th>\n",
       "      <th>year_of_release</th>\n",
       "      <th>genr</th>\n",
       "      <th>NA_sales</th>\n",
       "      <th>EU_sales</th>\n",
       "      <th>JP_sales</th>\n",
       "      <th>other_sales</th>\n",
       "      <th>critic_score</th>\n",
       "      <th>user_score</th>\n",
       "      <th>rating</th>\n",
       "      <th>all_sales</th>\n",
       "    </tr>\n",
       "  </thead>\n",
       "  <tbody>\n",
       "    <tr>\n",
       "      <th>0</th>\n",
       "      <td>Wii Sports</td>\n",
       "      <td>Wii</td>\n",
       "      <td>2006</td>\n",
       "      <td>Sports</td>\n",
       "      <td>41.36</td>\n",
       "      <td>28.96</td>\n",
       "      <td>3.77</td>\n",
       "      <td>8.45</td>\n",
       "      <td>76.0</td>\n",
       "      <td>8.0</td>\n",
       "      <td>E</td>\n",
       "      <td>82.54</td>\n",
       "    </tr>\n",
       "    <tr>\n",
       "      <th>1</th>\n",
       "      <td>Super Mario Bros.</td>\n",
       "      <td>NES</td>\n",
       "      <td>1985</td>\n",
       "      <td>Platform</td>\n",
       "      <td>29.08</td>\n",
       "      <td>3.58</td>\n",
       "      <td>6.81</td>\n",
       "      <td>0.77</td>\n",
       "      <td>NaN</td>\n",
       "      <td>NaN</td>\n",
       "      <td>NaN</td>\n",
       "      <td>40.24</td>\n",
       "    </tr>\n",
       "    <tr>\n",
       "      <th>2</th>\n",
       "      <td>Mario Kart Wii</td>\n",
       "      <td>Wii</td>\n",
       "      <td>2008</td>\n",
       "      <td>Racing</td>\n",
       "      <td>15.68</td>\n",
       "      <td>12.76</td>\n",
       "      <td>3.79</td>\n",
       "      <td>3.29</td>\n",
       "      <td>82.0</td>\n",
       "      <td>8.3</td>\n",
       "      <td>E</td>\n",
       "      <td>35.52</td>\n",
       "    </tr>\n",
       "    <tr>\n",
       "      <th>3</th>\n",
       "      <td>Wii Sports Resort</td>\n",
       "      <td>Wii</td>\n",
       "      <td>2009</td>\n",
       "      <td>Sports</td>\n",
       "      <td>15.61</td>\n",
       "      <td>10.93</td>\n",
       "      <td>3.28</td>\n",
       "      <td>2.95</td>\n",
       "      <td>80.0</td>\n",
       "      <td>8.0</td>\n",
       "      <td>E</td>\n",
       "      <td>32.77</td>\n",
       "    </tr>\n",
       "    <tr>\n",
       "      <th>4</th>\n",
       "      <td>Pokemon Red/Pokemon Blue</td>\n",
       "      <td>GB</td>\n",
       "      <td>1996</td>\n",
       "      <td>Role-Playing</td>\n",
       "      <td>11.27</td>\n",
       "      <td>8.89</td>\n",
       "      <td>10.22</td>\n",
       "      <td>1.00</td>\n",
       "      <td>NaN</td>\n",
       "      <td>NaN</td>\n",
       "      <td>NaN</td>\n",
       "      <td>31.38</td>\n",
       "    </tr>\n",
       "  </tbody>\n",
       "</table>\n",
       "</div>"
      ],
      "text/plain": [
       "                       name platform  year_of_release          genr  NA_sales  \\\n",
       "0                Wii Sports      Wii             2006        Sports     41.36   \n",
       "1         Super Mario Bros.      NES             1985      Platform     29.08   \n",
       "2            Mario Kart Wii      Wii             2008        Racing     15.68   \n",
       "3         Wii Sports Resort      Wii             2009        Sports     15.61   \n",
       "4  Pokemon Red/Pokemon Blue       GB             1996  Role-Playing     11.27   \n",
       "\n",
       "   EU_sales  JP_sales  other_sales  critic_score  user_score rating  all_sales  \n",
       "0     28.96      3.77         8.45          76.0         8.0      E      82.54  \n",
       "1      3.58      6.81         0.77           NaN         NaN    NaN      40.24  \n",
       "2     12.76      3.79         3.29          82.0         8.3      E      35.52  \n",
       "3     10.93      3.28         2.95          80.0         8.0      E      32.77  \n",
       "4      8.89     10.22         1.00           NaN         NaN    NaN      31.38  "
      ]
     },
     "execution_count": 10,
     "metadata": {},
     "output_type": "execute_result"
    }
   ],
   "source": [
    "data['all_sales'] = data[['NA_sales','EU_sales','JP_sales', 'other_sales']].sum(axis = 1)\n",
    "data.head()"
   ]
  },
  {
   "cell_type": "markdown",
   "id": "3877ca7b",
   "metadata": {},
   "source": [
    "### 2.5 Заполнение пропусков"
   ]
  },
  {
   "cell_type": "markdown",
   "id": "4f61bf95",
   "metadata": {},
   "source": [
    "Пропуски встречаются в столбцах `critic_score`, `user_score`, `rating`. Последний столбец заполнить никак нельзя - возрастной рейтинг невозможно вывести из имеющихся данных. Проверим корреляцию между продажами и оценками игры у критиков и пользователей, есть вероятность, что чем выше продажи, тем лучше оценки у игры."
   ]
  },
  {
   "cell_type": "code",
   "execution_count": 11,
   "id": "a5f7a967",
   "metadata": {},
   "outputs": [
    {
     "name": "stdout",
     "output_type": "stream",
     "text": [
      "Корреляция между продажами в Европе и оценками критиков: 0.22127568477452472\n",
      "Корреляция между продажами в Европе и оценками игроков: 0.05552985477192151\n",
      "Корреляция между оценками игроков и оценками критиков: 0.5796706281932219\n"
     ]
    }
   ],
   "source": [
    "print('Корреляция между продажами в Европе и оценками критиков:', data['EU_sales'].corr(data['critic_score']))\n",
    "print('Корреляция между продажами в Европе и оценками игроков:', data['EU_sales'].corr(data['user_score']))\n",
    "print('Корреляция между оценками игроков и оценками критиков:', data['critic_score'].corr(data['user_score']))"
   ]
  },
  {
   "cell_type": "code",
   "execution_count": 12,
   "id": "df293eca",
   "metadata": {},
   "outputs": [
    {
     "name": "stdout",
     "output_type": "stream",
     "text": [
      "Средний год выпуска игры, не имеющей оценок критиков: 2006.0\n"
     ]
    },
    {
     "data": {
      "image/png": "[encoded data removed]",
      "text/plain": [
       "<Figure size 432x288 with 1 Axes>"
      ]
     },
     "metadata": {
      "needs_background": "light"
     },
     "output_type": "display_data"
    }
   ],
   "source": [
    "print('Средний год выпуска игры, не имеющей оценок критиков:', \n",
    "      data.query('critic_score.isna()')['year_of_release'].mean().round())\n",
    "data.query('critic_score.isna()').boxplot(['year_of_release']);"
   ]
  },
  {
   "cell_type": "code",
   "execution_count": 13,
   "id": "ba218ae4",
   "metadata": {},
   "outputs": [
    {
     "name": "stdout",
     "output_type": "stream",
     "text": [
      "Средний год выпуска игры, не имеющей оценок пользователей: 2005.0\n"
     ]
    },
    {
     "data": {
      "image/png": "[encoded data removed]",
      "text/plain": [
       "<Figure size 432x288 with 1 Axes>"
      ]
     },
     "metadata": {
      "needs_background": "light"
     },
     "output_type": "display_data"
    }
   ],
   "source": [
    "print('Средний год выпуска игры, не имеющей оценок пользователей:', \n",
    "      data.query('user_score.isna()')['year_of_release'].mean().round())\n",
    "data.query('user_score.isna()').boxplot(['year_of_release']);"
   ]
  },
  {
   "cell_type": "markdown",
   "id": "4ac465d6",
   "metadata": {},
   "source": [
    "Получается, что оценки игроков и критиков имеют слабую положительную корреляцию с продажами в отдельном регионе. По уровню продаж не получится судить о рейтинге игры среди критиков и пользователей, а значит заполнить таким образом пропуски не получится. Посмотрим, как обстоят дела в столбце `rating`: в нем содержится информация о возрастных ограничесниях, накладываемых компанией ESRB. "
   ]
  },
  {
   "cell_type": "code",
   "execution_count": 14,
   "id": "eb1b8562",
   "metadata": {},
   "outputs": [
    {
     "name": "stdout",
     "output_type": "stream",
     "text": [
      "Всего пропусков: 6676\n",
      "Пропусков, где суммарные продажи превышают 1 млн проданных копий: 629\n",
      "Из них до 1994 вышло: 153\n"
     ]
    }
   ],
   "source": [
    "print('Всего пропусков:', data.query('rating.isna()').shape[0])\n",
    "print('Пропусков, где суммарные продажи превышают 1 млн проданных копий:'\n",
    "      , data.query('rating.isna() and all_sales > 1').shape[0])\n",
    "print('Из них до 1994 вышло:', data.query('rating.isna() and year_of_release < 1994 and all_sales > 1').shape[0])\n",
    "\n",
    "#data.query('rating.isna() and year_of_release >= 1994 and all_sales > 1').head(20)"
   ]
  },
  {
   "cell_type": "markdown",
   "id": "79a51239",
   "metadata": {},
   "source": [
    "Получается, что большинство игр без присвоенного рейтинга либо имеют малое число продаж (возможно, именно из-за этого? / может быть, они выпускаются локально для регионов без данной системы рейтингов?), либо вышли до создания данной системы рейтингов. Поэтому, заполним пропуски заглушной missed."
   ]
  },
  {
   "cell_type": "code",
   "execution_count": 15,
   "id": "8c164729",
   "metadata": {},
   "outputs": [
    {
     "name": "stderr",
     "output_type": "stream",
     "text": [
      "/opt/conda/lib/python3.9/site-packages/pandas/core/indexing.py:1720: SettingWithCopyWarning: \n",
      "A value is trying to be set on a copy of a slice from a DataFrame.\n",
      "Try using .loc[row_indexer,col_indexer] = value instead\n",
      "\n",
      "See the caveats in the documentation: https://pandas.pydata.org/pandas-docs/stable/user_guide/indexing.html#returning-a-view-versus-a-copy\n",
      "  self._setitem_single_column(loc, value, pi)\n"
     ]
    }
   ],
   "source": [
    "data.loc[df['rating'].isna(), 'rating'] = 'missed'"
   ]
  },
  {
   "cell_type": "markdown",
   "id": "8ee0c4c9",
   "metadata": {},
   "source": [
    "**Промежуточные итоги:** в ходе переработки данных были приведены к общему виду названия столбцов, добавлены данные о суммарных продажа во всех регионах. Изменены типы данных в `user_score` и `year_of_release`. Датасет проверен на наличие дубликатов, их не было обнаружено. Пропуски в столбцах  `critic_score`, `user_score`, были оставлены, так как информации, на основе которой их можно было бы заполнить, нет."
   ]
  },
  {
   "cell_type": "code",
   "execution_count": 16,
   "id": "21a43b47",
   "metadata": {},
   "outputs": [
    {
     "name": "stdout",
     "output_type": "stream",
     "text": [
      "После переработки объем данных составил  98.38% от изначального.\n"
     ]
    }
   ],
   "source": [
    "print(f'После переработки объем данных составил {data.shape[0]/df.shape[0]: .02%} от изначального.')"
   ]
  },
  {
   "cell_type": "code",
   "execution_count": 17,
   "id": "cc1fca94",
   "metadata": {},
   "outputs": [
    {
     "name": "stdout",
     "output_type": "stream",
     "text": [
      "<class 'pandas.core.frame.DataFrame'>\n",
      "Int64Index: 16444 entries, 0 to 16714\n",
      "Data columns (total 12 columns):\n",
      " #   Column           Non-Null Count  Dtype  \n",
      "---  ------           --------------  -----  \n",
      " 0   name             16444 non-null  object \n",
      " 1   platform         16444 non-null  object \n",
      " 2   year_of_release  16444 non-null  int32  \n",
      " 3   genr             16444 non-null  object \n",
      " 4   NA_sales         16444 non-null  float64\n",
      " 5   EU_sales         16444 non-null  float64\n",
      " 6   JP_sales         16444 non-null  float64\n",
      " 7   other_sales      16444 non-null  float64\n",
      " 8   critic_score     7983 non-null   float64\n",
      " 9   user_score       7463 non-null   float64\n",
      " 10  rating           16444 non-null  object \n",
      " 11  all_sales        16444 non-null  float64\n",
      "dtypes: float64(7), int32(1), object(4)\n",
      "memory usage: 1.6+ MB\n",
      "None\n",
      "-------------------------\n",
      "name [' Beyblade Burst' ' Fire Emblem Fates' \" Frozen: Olaf's Quest\" ...\n",
      " 'uDraw Studio' 'uDraw Studio: Instant Artist'\n",
      " '¡Shin Chan Flipa en colores!']\n",
      "name : кол-во NaN 0 , процент NaN 0.0 %\n",
      "-------------------------\n",
      "platform ['2600' '3DO' '3DS' 'DC' 'DS' 'GB' 'GBA' 'GC' 'GEN' 'GG' 'N64' 'NES' 'NG'\n",
      " 'PC' 'PCFX' 'PS' 'PS2' 'PS3' 'PS4' 'PSP' 'PSV' 'SAT' 'SCD' 'SNES' 'TG16'\n",
      " 'WS' 'Wii' 'WiiU' 'X360' 'XB' 'XOne']\n",
      "platform : кол-во NaN 0 , процент NaN 0.0 %\n",
      "-------------------------\n",
      "year_of_release [1980 1981 1982 1983 1984 1985 1986 1987 1988 1989 1990 1991 1992 1993\n",
      " 1994 1995 1996 1997 1998 1999 2000 2001 2002 2003 2004 2005 2006 2007\n",
      " 2008 2009 2010 2011 2012 2013 2014 2015 2016]\n",
      "year_of_release : кол-во NaN 0 , процент NaN 0.0 %\n",
      "-------------------------\n",
      "genr ['Action' 'Adventure' 'Fighting' 'Misc' 'Platform' 'Puzzle' 'Racing'\n",
      " 'Role-Playing' 'Shooter' 'Simulation' 'Sports' 'Strategy']\n",
      "genr : кол-во NaN 0 , процент NaN 0.0 %\n",
      "-------------------------\n",
      "critic_score [13. 17. 19. 20. 21. 23. 24. 25. 26. 27. 28. 29. 30. 31. 32. 33. 34. 35.\n",
      " 36. 37. 38. 39. 40. 41. 42. 43. 44. 45. 46. 47. 48. 49. 50. 51. 52. 53.\n",
      " 54. 55. 56. 57. 58. 59. 60. 61. 62. 63. 64. 65. 66. 67. 68. 69. 70. 71.\n",
      " 72. 73. 74. 75. 76. 77. 78. 79. 80. 81. 82. 83. 84. 85. 86. 87. 88. 89.\n",
      " 90. 91. 92. 93. 94. 95. 96. 97. 98. nan]\n",
      "critic_score : кол-во NaN 8461 , процент NaN 51.45 %\n",
      "-------------------------\n",
      "user_score [0.  0.2 0.3 0.5 0.6 0.7 0.9 1.  1.1 1.2 1.3 1.4 1.5 1.6 1.7 1.8 1.9 2.\n",
      " 2.1 2.2 2.3 2.4 2.5 2.6 2.7 2.8 2.9 3.  3.1 3.2 3.3 3.4 3.5 3.6 3.7 3.8\n",
      " 3.9 4.  4.1 4.2 4.3 4.4 4.5 4.6 4.7 4.8 4.9 5.  5.1 5.2 5.3 5.4 5.5 5.6\n",
      " 5.7 5.8 5.9 6.  6.1 6.2 6.3 6.4 6.5 6.6 6.7 6.8 6.9 7.  7.1 7.2 7.3 7.4\n",
      " 7.5 7.6 7.7 7.8 7.9 8.  8.1 8.2 8.3 8.4 8.5 8.6 8.7 8.8 8.9 9.  9.1 9.2\n",
      " 9.3 9.4 9.5 9.6 9.7 nan]\n",
      "user_score : кол-во NaN 8981 , процент NaN 54.62 %\n",
      "-------------------------\n",
      "rating ['AO' 'E' 'E10+' 'EC' 'K-A' 'M' 'RP' 'T' 'missed']\n",
      "rating : кол-во NaN 0 , процент NaN 0.0 %\n"
     ]
    }
   ],
   "source": [
    "temp = data.copy() \n",
    "list_c = ['name', 'platform', 'year_of_release', 'genr', 'critic_score', 'user_score', 'rating']\n",
    "print(temp.info())\n",
    "for col_l in list_c:\n",
    "  print('-'* 25)\n",
    "  print(col_l, temp[col_l].sort_values().unique())\n",
    "  print(col_l,': кол-во NaN',temp[col_l].isna().sum(),\n",
    "        ', процент NaN', round(temp[col_l].isna().sum()/len(temp)*100, 2),'%')"
   ]
  },
  {
   "cell_type": "markdown",
   "id": "28b379da",
   "metadata": {},
   "source": [
    "## 3 Исследовательский анализ данных"
   ]
  },
  {
   "cell_type": "markdown",
   "id": "0fcc0b4d",
   "metadata": {},
   "source": [
    "### 3.1 Исследование количества релизов по годам"
   ]
  },
  {
   "cell_type": "markdown",
   "id": "38fc6db4",
   "metadata": {},
   "source": [
    "Датасет охватывает временной промежуток с 1980 по 2016 год включительно. Можно наблюдать увеличение выпусков игр после 1995 года, а также резкие скачки в 2001 (в сторону увеличения) и в 2011 (количество релизов резко упало). Пик приходится на период с 2007 на 2008 годы: тогда количество релизов достигало 1400 игр в год. В среднем в датасете игры были выпущены в 2006-2007 году."
   ]
  },
  {
   "cell_type": "code",
   "execution_count": 18,
   "id": "34c5f672",
   "metadata": {},
   "outputs": [
    {
     "data": {
      "image/png": "[encoded data removed]",
      "text/plain": [
       "<Figure size 432x288 with 1 Axes>"
      ]
     },
     "metadata": {
      "needs_background": "light"
     },
     "output_type": "display_data"
    },
    {
     "data": {
      "image/png": "[encoded data removed]",
      "text/plain": [
       "<Figure size 432x288 with 1 Axes>"
      ]
     },
     "metadata": {
      "needs_background": "light"
     },
     "output_type": "display_data"
    }
   ],
   "source": [
    "year_bins = data['year_of_release'].max() - data['year_of_release'].min() + 1\n",
    "data['year_of_release'].hist(bins = year_bins);\n",
    "plt.title('Распределение количества релизов по годам')\n",
    "plt.ylabel('Количество релизов игр')\n",
    "plt.xlabel('Год выпуска')\n",
    "plt.show()\n",
    "data.boxplot(['year_of_release'], rot = 90, vert = False);\n",
    "#data['year_of_release'].describe()"
   ]
  },
  {
   "cell_type": "markdown",
   "id": "065d16c6",
   "metadata": {},
   "source": [
    "### 3.2 Исследование популярности платформ"
   ]
  },
  {
   "cell_type": "code",
   "execution_count": 19,
   "id": "a1a5ee47",
   "metadata": {
    "scrolled": false
   },
   "outputs": [
    {
     "data": {
      "image/png": "[encoded data removed]",
      "text/plain": [
       "<Figure size 1296x720 with 2 Axes>"
      ]
     },
     "metadata": {
      "needs_background": "light"
     },
     "output_type": "display_data"
    }
   ],
   "source": [
    "#data_platform = data.groupby(['platform', 'year_of_release'])['name'].count()\n",
    "data_platform = data.pivot_table(index  = 'platform', columns = 'year_of_release', values = 'all_sales', aggfunc = 'sum')\n",
    "plt.figure(figsize = (18, 10))\n",
    "sns.heatmap(data_platform, annot=False, linewidths=1, linecolor='grey', cmap=\"YlGnBu\");"
   ]
  },
  {
   "cell_type": "code",
   "execution_count": 20,
   "id": "1f604ace",
   "metadata": {},
   "outputs": [],
   "source": [
    "# удаление выброса для платформы DS\n",
    "\n",
    "data = data.query('~((platform == \"DS\") and (year_of_release == 1985))')"
   ]
  },
  {
   "cell_type": "markdown",
   "id": "35c7dfaf",
   "metadata": {},
   "source": [
    "Посмотрим, как менялись продажи по платформам: как видно по heatmap, по продажам лидируют PS2, X360, PS3, Wii и DS, однако к текущему году продажи по ним сильно упали или их уже нет совсем. Средняя продолжительность \"жизни\" платформы, согласно подсчетам, составляет 6 лет."
   ]
  },
  {
   "cell_type": "code",
   "execution_count": 21,
   "id": "25b1f998",
   "metadata": {},
   "outputs": [
    {
     "data": {
      "text/plain": [
       "platform\n",
       "PS2     1233.56\n",
       "X360     961.24\n",
       "PS3      931.34\n",
       "Wii      891.18\n",
       "DS       802.76\n",
       "Name: all_sales, dtype: float64"
      ]
     },
     "execution_count": 21,
     "metadata": {},
     "output_type": "execute_result"
    }
   ],
   "source": [
    "platform_sales = (\n",
    "    data\n",
    "    .groupby('platform')['all_sales'].sum()\n",
    "    .sort_values(ascending = False)\n",
    ")\n",
    "\n",
    "platform_sales.head()"
   ]
  },
  {
   "cell_type": "code",
   "execution_count": 22,
   "id": "7f76f7f0",
   "metadata": {},
   "outputs": [
    {
     "name": "stdout",
     "output_type": "stream",
     "text": [
      "Средняя продолжительность \"жизни\" платформы 6.43 лет.\n"
     ]
    }
   ],
   "source": [
    "array = []\n",
    "for column in data_platform.columns:\n",
    "    i = len(data_platform[column].unique()) - 1\n",
    "    array.append(i)\n",
    "\n",
    "print(f'Средняя продолжительность \"жизни\" платформы {np.mean(array).round(2)} лет.')"
   ]
  },
  {
   "cell_type": "code",
   "execution_count": 23,
   "id": "937e0c9c",
   "metadata": {},
   "outputs": [
    {
     "data": {
      "image/png": "[encoded data removed]",
      "text/plain": [
       "<Figure size 432x288 with 1 Axes>"
      ]
     },
     "metadata": {
      "needs_background": "light"
     },
     "output_type": "display_data"
    },
    {
     "data": {
      "image/png": "[encoded data removed]",
      "text/plain": [
       "<Figure size 432x288 with 1 Axes>"
      ]
     },
     "metadata": {
      "needs_background": "light"
     },
     "output_type": "display_data"
    },
    {
     "data": {
      "image/png": "[encoded data removed]",
      "text/plain": [
       "<Figure size 432x288 with 1 Axes>"
      ]
     },
     "metadata": {
      "needs_background": "light"
     },
     "output_type": "display_data"
    },
    {
     "data": {
      "image/png": "[encoded data removed]",
      "text/plain": [
       "<Figure size 432x288 with 1 Axes>"
      ]
     },
     "metadata": {
      "needs_background": "light"
     },
     "output_type": "display_data"
    },
    {
     "data": {
      "image/png": "[encoded data removed]",
      "text/plain": [
       "<Figure size 432x288 with 1 Axes>"
      ]
     },
     "metadata": {
      "needs_background": "light"
     },
     "output_type": "display_data"
    }
   ],
   "source": [
    "data_platform = data.pivot_table(index  = 'year_of_release', columns = 'platform', \n",
    "                                 values = 'all_sales', aggfunc = 'sum')\n",
    "\n",
    "top_5_platforms = ['PS2', 'X360', 'PS3', 'Wii', 'DS']\n",
    "\n",
    "for platform in top_5_platforms:\n",
    "    data_platform[platform][data_platform.index>=2000].plot(kind='bar', grid = True, title = 'Изменения в продажах на ' + platform)\n",
    "    plt.show()"
   ]
  },
  {
   "cell_type": "code",
   "execution_count": 24,
   "id": "ec94d351",
   "metadata": {},
   "outputs": [
    {
     "name": "stdout",
     "output_type": "stream",
     "text": [
      "Доля данных за актуальный период в 5 лет составила 17.55% от исходных.\n"
     ]
    }
   ],
   "source": [
    "data_actual = data.query('year_of_release > 2011')\n",
    "\n",
    "print(f'Доля данных за актуальный период в 5 лет составила {data_actual.shape[0]/data.shape[0]:.02%} от исходных.')"
   ]
  },
  {
   "cell_type": "markdown",
   "id": "4a5ebc72",
   "metadata": {},
   "source": [
    "Как видно по \"ящику с усами\" для актуального периода, практически у всех платформ много игр, выходящих за \"усы\" ящика. Это не выбросы, а примеры крайне успешных продуктов. Самыми перспективными можно считать платформы PS4, WiiU и XOne. Сюда попадают и PS3 и X360, которые лидируют по медианным значениям, однако стоит учитывать, что у них есть уже новое поколение консолей. К перспективным можно отнести и PC, который уже очень долго существует на рынке и демонстрирует стабильные продажи."
   ]
  },
  {
   "cell_type": "code",
   "execution_count": 25,
   "id": "fba3de32",
   "metadata": {},
   "outputs": [
    {
     "data": {
      "image/png": "[encoded data removed]",
      "text/plain": [
       "<Figure size 1080x720 with 1 Axes>"
      ]
     },
     "metadata": {
      "needs_background": "light"
     },
     "output_type": "display_data"
    },
    {
     "data": {
      "image/png": "[encoded data removed]",
      "text/plain": [
       "<Figure size 1080x720 with 1 Axes>"
      ]
     },
     "metadata": {
      "needs_background": "light"
     },
     "output_type": "display_data"
    }
   ],
   "source": [
    "data_actual.boxplot(by = 'platform', column = 'all_sales', rot = 1, figsize = (15,10))\n",
    "plt.ylim(0,2)\n",
    "data_actual.boxplot(by = 'platform', column = 'all_sales', rot = 1, figsize = (15,10));"
   ]
  },
  {
   "cell_type": "markdown",
   "id": "d339ca93",
   "metadata": {},
   "source": [
    "**Промежуточные итоги:** Платформы появляются и исчезают в среднем за 6-7 лет. Самой стабильной платформой является PC: пускай у него и не самые высокие продажи, однако он существует на рынке дольше всех, как видно по heatmap, и вряд ли с него уйдёт. \n",
    "\n",
    "Самыми прибыльными являются *PS2, X360, PS3, Wii и DS*, однако, согласно продажам за последние несколько лет, они уже не на пике своей популярности. Относительно новыми  и перспективными можно считать такие платформы, как *PS4, WiiU и XOne*. Стоит обратить внимание, что большинство из этих платформ являются преемниками более старых своих версий, а значит переход на них произойдет постепенно и не следует ждать высоких продаж в первые несколько лет. Эту же тенденцию демонстрировали и PS2, которая пришла вместо PS, и X360 после XB. \n",
    "\n",
    "Далее в работе будут использоваться данные **за последние 5 лет**: именно такой перио можно считать актуальным, ведь тенденции на рынке игр меняются очень быстро."
   ]
  },
  {
   "cell_type": "markdown",
   "id": "09ad2f37",
   "metadata": {},
   "source": [
    "### 3.3 Исследование влияния отзывов пользователей и критиков на продажи"
   ]
  },
  {
   "cell_type": "markdown",
   "id": "796757a2",
   "metadata": {},
   "source": [
    "Проверим, как влияют на продажи отзывы пользователей и критиков. Для анализа возьмем наиболее популярные и прибыльные платформы: PS3, PS4, WiiU, XOne, X360 и PC, сравним их показатели корреляции между собой и со всеми платформами сразу."
   ]
  },
  {
   "cell_type": "code",
   "execution_count": 26,
   "id": "8570b717",
   "metadata": {
    "scrolled": false
   },
   "outputs": [
    {
     "data": {
      "image/png": "[encoded data removed]",
      "text/plain": [
       "<Figure size 432x288 with 1 Axes>"
      ]
     },
     "metadata": {
      "needs_background": "light"
     },
     "output_type": "display_data"
    },
    {
     "name": "stdout",
     "output_type": "stream",
     "text": [
      "Корреляция для PS3 составляет: 0.331\n"
     ]
    },
    {
     "data": {
      "image/png": "[encoded data removed]",
      "text/plain": [
       "<Figure size 432x288 with 1 Axes>"
      ]
     },
     "metadata": {
      "needs_background": "light"
     },
     "output_type": "display_data"
    },
    {
     "name": "stdout",
     "output_type": "stream",
     "text": [
      "Корреляция для PS4 составляет: 0.407\n"
     ]
    },
    {
     "data": {
      "image/png": "[encoded data removed]",
      "text/plain": [
       "<Figure size 432x288 with 1 Axes>"
      ]
     },
     "metadata": {
      "needs_background": "light"
     },
     "output_type": "display_data"
    },
    {
     "name": "stdout",
     "output_type": "stream",
     "text": [
      "Корреляция для WiiU составляет: 0.348\n"
     ]
    },
    {
     "data": {
      "image/png": "[encoded data removed]",
      "text/plain": [
       "<Figure size 432x288 with 1 Axes>"
      ]
     },
     "metadata": {
      "needs_background": "light"
     },
     "output_type": "display_data"
    },
    {
     "name": "stdout",
     "output_type": "stream",
     "text": [
      "Корреляция для XOne составляет: 0.417\n"
     ]
    },
    {
     "data": {
      "image/png": "[encoded data removed]",
      "text/plain": [
       "<Figure size 432x288 with 1 Axes>"
      ]
     },
     "metadata": {
      "needs_background": "light"
     },
     "output_type": "display_data"
    },
    {
     "name": "stdout",
     "output_type": "stream",
     "text": [
      "Корреляция для X360 составляет: 0.361\n"
     ]
    },
    {
     "data": {
      "image/png": "[encoded data removed]",
      "text/plain": [
       "<Figure size 432x288 with 1 Axes>"
      ]
     },
     "metadata": {
      "needs_background": "light"
     },
     "output_type": "display_data"
    },
    {
     "name": "stdout",
     "output_type": "stream",
     "text": [
      "Корреляция для PC составляет: 0.237\n"
     ]
    }
   ],
   "source": [
    "platforms_for_comp = ['PS3', 'PS4', 'WiiU', 'XOne', 'X360', 'PC']\n",
    "\n",
    "for platform in platforms_for_comp:\n",
    "    new_df = data_actual.query('platform == @platform')\n",
    "    new_df.plot(x = 'critic_score', y = 'all_sales', linestyle = '', marker = 'o', \n",
    "              markersize = 4, alpha = 0.1, color = 'purple', grid = True); \n",
    "    plt.title('Платформа ' + platform)\n",
    "    plt.xlabel('Оценки критиков')\n",
    "    plt.ylabel('Сумма продаж')\n",
    "    plt.show()\n",
    "    print(f'Корреляция для {platform} составляет:', (new_df['critic_score'].corr(new_df['all_sales']).round(3)))"
   ]
  },
  {
   "cell_type": "code",
   "execution_count": 27,
   "id": "397cd5fd",
   "metadata": {
    "scrolled": false
   },
   "outputs": [
    {
     "data": {
      "image/png": "[encoded data removed]",
      "text/plain": [
       "<Figure size 432x288 with 1 Axes>"
      ]
     },
     "metadata": {
      "needs_background": "light"
     },
     "output_type": "display_data"
    },
    {
     "name": "stdout",
     "output_type": "stream",
     "text": [
      "Корреляция для PS3 составляет: -0.005\n"
     ]
    },
    {
     "data": {
      "image/png": "[encoded data removed]",
      "text/plain": [
       "<Figure size 432x288 with 1 Axes>"
      ]
     },
     "metadata": {
      "needs_background": "light"
     },
     "output_type": "display_data"
    },
    {
     "name": "stdout",
     "output_type": "stream",
     "text": [
      "Корреляция для PS4 составляет: -0.032\n"
     ]
    },
    {
     "data": {
      "image/png": "[encoded data removed]",
      "text/plain": [
       "<Figure size 432x288 with 1 Axes>"
      ]
     },
     "metadata": {
      "needs_background": "light"
     },
     "output_type": "display_data"
    },
    {
     "name": "stdout",
     "output_type": "stream",
     "text": [
      "Корреляция для WiiU составляет: 0.4\n"
     ]
    },
    {
     "data": {
      "image/png": "[encoded data removed]",
      "text/plain": [
       "<Figure size 432x288 with 1 Axes>"
      ]
     },
     "metadata": {
      "needs_background": "light"
     },
     "output_type": "display_data"
    },
    {
     "name": "stdout",
     "output_type": "stream",
     "text": [
      "Корреляция для XOne составляет: -0.069\n"
     ]
    },
    {
     "data": {
      "image/png": "[encoded data removed]",
      "text/plain": [
       "<Figure size 432x288 with 1 Axes>"
      ]
     },
     "metadata": {
      "needs_background": "light"
     },
     "output_type": "display_data"
    },
    {
     "name": "stdout",
     "output_type": "stream",
     "text": [
      "Корреляция для X360 составляет: 0.006\n"
     ]
    },
    {
     "data": {
      "image/png": "[encoded data removed]",
      "text/plain": [
       "<Figure size 432x288 with 1 Axes>"
      ]
     },
     "metadata": {
      "needs_background": "light"
     },
     "output_type": "display_data"
    },
    {
     "name": "stdout",
     "output_type": "stream",
     "text": [
      "Корреляция для PC составляет: -0.122\n"
     ]
    }
   ],
   "source": [
    "for platform in platforms_for_comp:\n",
    "    new_df = data_actual.query('platform == @platform')\n",
    "    new_df.plot(x = 'user_score', y = 'all_sales', linestyle = '', marker = 'o', \n",
    "              markersize = 4, alpha = 0.1, color = 'green', grid = True); \n",
    "    plt.title('Платформа ' + platform)\n",
    "    plt.xlabel('Оценки игроков')\n",
    "    plt.ylabel('Сумма продаж')\n",
    "    plt.show()\n",
    "    print(f'Корреляция для {platform} составляет:', (new_df['user_score'].corr(new_df['all_sales']).round(3)))"
   ]
  },
  {
   "cell_type": "code",
   "execution_count": 28,
   "id": "a6c94ad2",
   "metadata": {
    "scrolled": false
   },
   "outputs": [
    {
     "name": "stdout",
     "output_type": "stream",
     "text": [
      "Корреляция между отзывами критиков и продажами по всем платформам составляет: 0.308\n",
      "Корреляция между отзывами игроков и продажами по всем платформам составляет: 0.004\n"
     ]
    },
    {
     "data": {
      "image/png": "[encoded data removed]",
      "text/plain": [
       "<Figure size 432x288 with 1 Axes>"
      ]
     },
     "metadata": {
      "needs_background": "light"
     },
     "output_type": "display_data"
    },
    {
     "data": {
      "image/png": "[encoded data removed]",
      "text/plain": [
       "<Figure size 432x288 with 1 Axes>"
      ]
     },
     "metadata": {
      "needs_background": "light"
     },
     "output_type": "display_data"
    }
   ],
   "source": [
    "print('Корреляция между отзывами критиков и продажами по всем платформам составляет:', \n",
    "      (data_actual['critic_score'].corr(data_actual['all_sales']).round(3)))\n",
    "print('Корреляция между отзывами игроков и продажами по всем платформам составляет:', \n",
    "      (data_actual['user_score'].corr(data_actual['all_sales']).round(3)))\n",
    "\n",
    "data_actual.plot(x = 'critic_score', y = 'all_sales', linestyle = '', marker = 'o', \n",
    "              markersize = 4, alpha = 0.1, color = 'red', grid = True); \n",
    "plt.ylim(0, 10)\n",
    "plt.title('Глобальное влияние оценок на продажи')\n",
    "plt.xlabel('Оценки критиков')\n",
    "plt.ylabel('Сумма продаж');\n",
    "\n",
    "data_actual.plot(x = 'user_score', y = 'all_sales', linestyle = '', marker = 'o', \n",
    "              markersize = 4, alpha = 0.1, color = 'darkred', grid = True); \n",
    "plt.ylim(0, 10)\n",
    "plt.title('Глобальное влияние оценок на продажи')\n",
    "plt.xlabel('Оценки игроков')\n",
    "plt.ylabel('Сумма продаж');"
   ]
  },
  {
   "cell_type": "markdown",
   "id": "86b3b6fe",
   "metadata": {},
   "source": [
    "**Промежуточные итоги:** в качетсве платформ для анализа были вабраны PS3, PS4, WiiU, XOne, X360 и PC. Между оценками критиков и общими продажами существует прямая корреляция, оценки критиков гораздо в большей степени влияют на продажи (например, коэф. корреляции 0.4 для PS4), чем оценки пользователей (корреляции почти нет, -0.032). Но есть и исключения: так, у WiiU коэф. корреляции между продажами и оценками игроков составляет 0.4, он даже больше, чем у оценок критиков. Можно сделать вывод, что в целом оценки критиков более объективны, чем у пользователей."
   ]
  },
  {
   "cell_type": "markdown",
   "id": "71117895",
   "metadata": {},
   "source": [
    "### 3.4 Исследование жанровых предпочтений"
   ]
  },
  {
   "cell_type": "code",
   "execution_count": 29,
   "id": "13fc7baa",
   "metadata": {
    "scrolled": false
   },
   "outputs": [],
   "source": [
    "data_genr = (\n",
    "    data_actual \n",
    "    .pivot_table(index = 'genr', values = 'all_sales', aggfunc = ['count', 'sum'])\n",
    ")\n",
    "\n",
    "data_genr.columns = ['count', 'sum_sales']\n",
    "\n",
    "#display(data_genr.sort_values(by = 'count', ascending = False).head())\n",
    "#display(data_genr.sort_values(by = 'sum_sales', ascending = False).head())"
   ]
  },
  {
   "cell_type": "code",
   "execution_count": 30,
   "id": "6fdd8ae7",
   "metadata": {
    "scrolled": false
   },
   "outputs": [
    {
     "data": {
      "image/png": "[encoded data removed]",
      "text/plain": [
       "<Figure size 432x288 with 1 Axes>"
      ]
     },
     "metadata": {
      "needs_background": "light"
     },
     "output_type": "display_data"
    },
    {
     "data": {
      "image/png": "[encoded data removed]",
      "text/plain": [
       "<Figure size 432x288 with 1 Axes>"
      ]
     },
     "metadata": {
      "needs_background": "light"
     },
     "output_type": "display_data"
    }
   ],
   "source": [
    "data_genr['count'].plot.bar(grid = True, title = 'Количество вышедших игр');\n",
    "plt.show()\n",
    "data_genr['sum_sales'].plot.bar(color = 'orange', grid = True, title = 'Суммарные продажи');"
   ]
  },
  {
   "cell_type": "code",
   "execution_count": 31,
   "id": "664c1728",
   "metadata": {
    "scrolled": false
   },
   "outputs": [
    {
     "data": {
      "image/png": "[encoded data removed]",
      "text/plain": [
       "<Figure size 360x360 with 1 Axes>"
      ]
     },
     "metadata": {
      "needs_background": "light"
     },
     "output_type": "display_data"
    },
    {
     "data": {
      "image/png": "[encoded data removed]",
      "text/plain": [
       "<Figure size 360x360 with 1 Axes>"
      ]
     },
     "metadata": {
      "needs_background": "light"
     },
     "output_type": "display_data"
    },
    {
     "data": {
      "image/png": "[encoded data removed]",
      "text/plain": [
       "<Figure size 360x360 with 1 Axes>"
      ]
     },
     "metadata": {
      "needs_background": "light"
     },
     "output_type": "display_data"
    }
   ],
   "source": [
    "genr_dynamic = data.groupby(['genr', 'year_of_release']).agg({'all_sales': ['count', 'sum']}).reset_index()\n",
    "genr_dynamic.columns = ['genr', 'year_of_release','count', 'sales_sum']\n",
    "genr_dynamic['mean_sales'] = genr_dynamic['sales_sum'] / genr_dynamic['count']*100\n",
    "\n",
    "sns.lmplot(data = genr_dynamic.query('genr == \"Role-Playing\"'), \n",
    "           x = 'year_of_release', y = 'mean_sales', order=3,  markers='.')\n",
    "plt.grid(visible = True)\n",
    "plt.title('Динамика средних продаж для жанра \"ролевые игры\"')\n",
    "\n",
    "sns.lmplot(data = genr_dynamic.query('genr == \"Shooter\"'), \n",
    "           x = 'year_of_release', y = 'mean_sales', order=3,  markers='.')\n",
    "plt.grid(visible = True)\n",
    "#plt.xlim(2005, 2016)\n",
    "plt.title('Динамика средних продаж для жанра \"шутер\"');\n",
    "\n",
    "sns.lmplot(data = genr_dynamic.query('genr == \"Action\"'), \n",
    "           x = 'year_of_release', y = 'mean_sales', order=2,  markers='.')\n",
    "plt.grid(visible = True)\n",
    "plt.ylim(0, 300)\n",
    "#plt.xlim(2005, 2016)\n",
    "plt.title('Динамика средних продаж для жанра \"экшн\"');"
   ]
  },
  {
   "cell_type": "code",
   "execution_count": 32,
   "id": "c7f0a9a4",
   "metadata": {},
   "outputs": [
    {
     "data": {
      "image/png": "[encoded data removed]",
      "text/plain": [
       "<Figure size 1080x720 with 1 Axes>"
      ]
     },
     "metadata": {
      "needs_background": "light"
     },
     "output_type": "display_data"
    },
    {
     "data": {
      "image/png": "[encoded data removed]",
      "text/plain": [
       "<Figure size 1080x720 with 1 Axes>"
      ]
     },
     "metadata": {
      "needs_background": "light"
     },
     "output_type": "display_data"
    }
   ],
   "source": [
    "data_actual.boxplot(by = 'genr', column = 'all_sales', rot = 1, figsize = (15,10))\n",
    "data_actual.boxplot(by = 'genr', column = 'all_sales', rot = 1, figsize = (15,10))\n",
    "plt.ylim(0, 4);"
   ]
  },
  {
   "cell_type": "markdown",
   "id": "a2cb79e6",
   "metadata": {},
   "source": [
    "**Промежуточные итоги:** по количеству выпущенных игр, так и по суммарным продажам во всех регионах лидирует жанр \"экшн\". Однако стоит заметить, что такие суммарные продажи могут быть связаны как раз с количством игр, а не с их качеством и продажами отдельно взятого продукта. Более того, динамика средних продаж по одной одной игре за актуальный период у экшна отрицательная. Аналогичное демонстрирует и диаграмма размаха: как по ней видно, медиана всех продаж больше всего у жанров \"шутер\", \"спорт\" и \"платформер\". Не стоит забывать и про выбросы - они демонстрируют примеры крайне успешных игр. Например, в жанрах экшн, ролевые игры и шутер есть продукты, суммарные продажи которых превысили 10 млн копий."
   ]
  },
  {
   "cell_type": "markdown",
   "id": "c7e1ea0d",
   "metadata": {},
   "source": [
    "## 4 Составление портрета пользователя каждого региона"
   ]
  },
  {
   "cell_type": "markdown",
   "id": "60539766",
   "metadata": {},
   "source": [
    "### 4.1 Исследование региона Северная Америка (NA)"
   ]
  },
  {
   "cell_type": "markdown",
   "id": "123a92b7",
   "metadata": {},
   "source": [
    "Пользователь данного региона в большей степени предпочитает *Xbox360*, далее по прибыльности идут *PS3, PS4, XOne и 3DS*. Примечательно, что PS4 обошла Xbox One по продажам, ведь предыдущие поколения консолей демонстрировали обратное. Самыми популярными жанрами являются *экшн, шутеры, спорт, музыка и ролевые игры*, а возрастным рейтингом - *M и Е*."
   ]
  },
  {
   "cell_type": "code",
   "execution_count": 33,
   "id": "8ce3b4df",
   "metadata": {},
   "outputs": [
    {
     "data": {
      "image/png": "[encoded data removed]",
      "text/plain": [
       "<Figure size 432x288 with 1 Axes>"
      ]
     },
     "metadata": {},
     "output_type": "display_data"
    }
   ],
   "source": [
    "na_platform = (\n",
    "    data_actual.groupby('platform')['NA_sales'].sum()\n",
    "    .sort_values(ascending = False)\n",
    "    .head()\n",
    ")\n",
    "#plt.figure(figsize = (10, 10))\n",
    "my_circle = plt.Circle((0,0), 0.7, color = 'white')\n",
    "plt.pie(na_platform, labels = na_platform.index, wedgeprops = { 'linewidth':2, 'edgecolor':'white'})\n",
    "p = plt.gcf()\n",
    "p.gca().add_artist(my_circle);"
   ]
  },
  {
   "cell_type": "code",
   "execution_count": 34,
   "id": "34bfa162",
   "metadata": {},
   "outputs": [
    {
     "data": {
      "image/png": "[encoded data removed]",
      "text/plain": [
       "<Figure size 432x288 with 1 Axes>"
      ]
     },
     "metadata": {},
     "output_type": "display_data"
    }
   ],
   "source": [
    "na_genr = (\n",
    "    data_actual.groupby('genr')['NA_sales'].sum()\n",
    "    .sort_values(ascending = False)\n",
    "    .head()\n",
    ")\n",
    "#plt.figure(figsize = (10, 10))\n",
    "my_circle = plt.Circle((0,0), 0.7, color = 'white')\n",
    "plt.pie(na_genr, labels = na_genr.index, wedgeprops = { 'linewidth':2, 'edgecolor':'white'}, \n",
    "        colors = sns.color_palette(\"husl\", 5), autopct='%1.0f%%', pctdistance=0.85)\n",
    "p = plt.gcf()\n",
    "p.gca().add_artist(my_circle);"
   ]
  },
  {
   "cell_type": "code",
   "execution_count": 35,
   "id": "af7acf20",
   "metadata": {},
   "outputs": [
    {
     "data": {
      "image/png": "[encoded data removed]",
      "text/plain": [
       "<Figure size 432x288 with 1 Axes>"
      ]
     },
     "metadata": {
      "needs_background": "light"
     },
     "output_type": "display_data"
    }
   ],
   "source": [
    "na_rating = (\n",
    "    data_actual.groupby('rating')['NA_sales'].sum()\n",
    "    .sort_values(ascending = False)\n",
    ")\n",
    "na_rating.plot.bar(grid = True);"
   ]
  },
  {
   "cell_type": "markdown",
   "id": "d3ea5516",
   "metadata": {},
   "source": [
    "### 4.2 Исследование региона Европа (EU)"
   ]
  },
  {
   "cell_type": "markdown",
   "id": "99b20a74",
   "metadata": {},
   "source": [
    "Европейцы, в отличие от пользователей из Северной Америки, больше предпочитают PlayStation, а не Xbox. PS3 и PS4 занимают 1 и 2 место по продажам в регионе, а уже за ними идут X360, XOne и 3DS. Жанровые и возрастные предпочтения практически такие же, как и в NA, только вместо музыки игроки предпочитают гонки."
   ]
  },
  {
   "cell_type": "code",
   "execution_count": 36,
   "id": "b05824be",
   "metadata": {},
   "outputs": [
    {
     "data": {
      "image/png": "[encoded data removed]",
      "text/plain": [
       "<Figure size 432x288 with 1 Axes>"
      ]
     },
     "metadata": {},
     "output_type": "display_data"
    }
   ],
   "source": [
    "eu_platform = (\n",
    "    data_actual.groupby('platform')['EU_sales'].sum()\n",
    "    .sort_values(ascending = False)\n",
    "    .head()\n",
    ")\n",
    "#plt.figure(figsize = (10, 10))\n",
    "my_circle = plt.Circle((0,0), 0.7, color = 'white')\n",
    "plt.pie(eu_platform, labels = eu_platform.index, wedgeprops = { 'linewidth':2, 'edgecolor':'white'})\n",
    "p = plt.gcf()\n",
    "p.gca().add_artist(my_circle);"
   ]
  },
  {
   "cell_type": "code",
   "execution_count": 37,
   "id": "89793937",
   "metadata": {},
   "outputs": [
    {
     "data": {
      "image/png": "[encoded data removed]",
      "text/plain": [
       "<Figure size 432x288 with 1 Axes>"
      ]
     },
     "metadata": {},
     "output_type": "display_data"
    }
   ],
   "source": [
    "eu_genr = (\n",
    "    data_actual.groupby('genr')['EU_sales'].sum()\n",
    "    .sort_values(ascending = False)\n",
    "    .head()\n",
    ")\n",
    "#plt.figure(figsize = (10, 10))\n",
    "my_circle = plt.Circle((0,0), 0.7, color = 'white')\n",
    "plt.pie(eu_genr, labels = eu_genr.index, wedgeprops = { 'linewidth':2, 'edgecolor':'white'}, \n",
    "        colors = sns.color_palette(\"husl\", 5), autopct='%1.0f%%', pctdistance=0.85)\n",
    "p = plt.gcf()\n",
    "p.gca().add_artist(my_circle);"
   ]
  },
  {
   "cell_type": "code",
   "execution_count": 38,
   "id": "2b0a2161",
   "metadata": {},
   "outputs": [
    {
     "data": {
      "image/png": "[encoded data removed]",
      "text/plain": [
       "<Figure size 432x288 with 1 Axes>"
      ]
     },
     "metadata": {
      "needs_background": "light"
     },
     "output_type": "display_data"
    }
   ],
   "source": [
    "eu_rating = (\n",
    "    data_actual.groupby('rating')['EU_sales'].sum()\n",
    "    .sort_values(ascending = False)\n",
    ")\n",
    "eu_rating.plot.bar(grid = True);"
   ]
  },
  {
   "cell_type": "markdown",
   "id": "9c5cbac9",
   "metadata": {},
   "source": [
    "### 4.3 Исследование региона Япония (JP)"
   ]
  },
  {
   "cell_type": "markdown",
   "id": "196afbab",
   "metadata": {},
   "source": [
    "Япония сильно отличается от предыдущих регионов. Самой популярной платформной является *3DS*, а также *PS3, PSV, PS4 и WiiU*. Xbox же вообще не вошел в топ-5. Жанровые предпочтения тоже отличаются: японцы в большей степени предпочитают *ролевые игры и экшн*, а вот шутеры составляют малую долю продаж. Отсюда, вероятно, и различия в возрастых рейтинах: большая часть из маркированных рейтингом игр предназначена для всех (E), либо для подростков (T). Больше всего игр вообще не имеют рейтинга, то есть скорее всего выходят локально для Японии или Азиатского региона, в то время как ESRB предназначен для маркировки игр для США и Канады."
   ]
  },
  {
   "cell_type": "code",
   "execution_count": 39,
   "id": "22aeb83e",
   "metadata": {},
   "outputs": [
    {
     "data": {
      "image/png": "[encoded data removed]",
      "text/plain": [
       "<Figure size 432x288 with 1 Axes>"
      ]
     },
     "metadata": {},
     "output_type": "display_data"
    }
   ],
   "source": [
    "jp_platform = (\n",
    "    data_actual.groupby('platform')['JP_sales'].sum()\n",
    "    .sort_values(ascending = False)\n",
    "    .head()\n",
    ")\n",
    "#plt.figure(figsize = (10, 10))\n",
    "my_circle = plt.Circle((0,0), 0.7, color = 'white')\n",
    "plt.pie(jp_platform, labels = jp_platform.index, wedgeprops = { 'linewidth':2, 'edgecolor':'white' })\n",
    "p = plt.gcf()\n",
    "p.gca().add_artist(my_circle);"
   ]
  },
  {
   "cell_type": "code",
   "execution_count": 40,
   "id": "401f54b7",
   "metadata": {
    "scrolled": true
   },
   "outputs": [
    {
     "data": {
      "image/png": "[encoded data removed]",
      "text/plain": [
       "<Figure size 432x288 with 1 Axes>"
      ]
     },
     "metadata": {},
     "output_type": "display_data"
    }
   ],
   "source": [
    "jp_genr = (\n",
    "    data_actual.groupby('genr')['JP_sales'].sum()\n",
    "    .sort_values(ascending = False)\n",
    "    .head()\n",
    ")\n",
    "#plt.figure(figsize = (10, 10))\n",
    "my_circle = plt.Circle((0,0), 0.7, color = 'white')\n",
    "plt.pie(jp_genr, labels = jp_genr.index, wedgeprops = { 'linewidth':2, 'edgecolor':'white'}, \n",
    "        colors = sns.color_palette(\"husl\", 5), autopct='%1.0f%%', pctdistance=0.85)\n",
    "p = plt.gcf()\n",
    "p.gca().add_artist(my_circle);"
   ]
  },
  {
   "cell_type": "code",
   "execution_count": 41,
   "id": "87a6def4",
   "metadata": {},
   "outputs": [
    {
     "data": {
      "image/png": "[encoded data removed]",
      "text/plain": [
       "<Figure size 432x288 with 1 Axes>"
      ]
     },
     "metadata": {
      "needs_background": "light"
     },
     "output_type": "display_data"
    }
   ],
   "source": [
    "jp_rating = (\n",
    "    data_actual.groupby('rating')['JP_sales'].sum()\n",
    "    .sort_values(ascending = False)\n",
    ")\n",
    "jp_rating.plot.bar(grid = True);"
   ]
  },
  {
   "cell_type": "markdown",
   "id": "c375a747",
   "metadata": {},
   "source": [
    "## 5 Проверка гипотез"
   ]
  },
  {
   "cell_type": "markdown",
   "id": "433c1707",
   "metadata": {},
   "source": [
    "**Средние пользовательские рейтинги платформ Xbox One и PC одинаковые**\n",
    "\n",
    "```\n",
    "H_0: Средние пользовательские рейтинги платформы Xbox One = средние пользовательские рейтинги платформы PC\n",
    "H_а: Средние пользовательские рейтинги платформы Xbox One ≠ средние пользовательские рейтинги платформы PC\n",
    "alpha = 0.05\n",
    "```"
   ]
  },
  {
   "cell_type": "code",
   "execution_count": 43,
   "id": "e60e20d9",
   "metadata": {},
   "outputs": [
    {
     "name": "stdout",
     "output_type": "stream",
     "text": [
      "p-значение: 0.5535080500643661\n",
      "Не получилось отвергнуть нулевую гипотезу\n"
     ]
    }
   ],
   "source": [
    "array_1 = data_actual.loc[data_actual['platform'] == \"XOne\", 'user_score'].dropna()\n",
    "array_2 = data_actual.loc[data_actual['platform'] == \"PC\", 'user_score'].dropna()\n",
    "\n",
    "alpha = 0.05\n",
    "result_12 = st.ttest_ind(array_1, array_2)\n",
    "print('p-значение:', result_12.pvalue)\n",
    "\n",
    "if alpha > result_12.pvalue:\n",
    "    print('Отвергаем нулевую гипотезу')\n",
    "else:\n",
    "    print('Не получилось отвергнуть нулевую гипотезу')"
   ]
  },
  {
   "cell_type": "code",
   "execution_count": 44,
   "id": "fcd5964e",
   "metadata": {},
   "outputs": [
    {
     "name": "stdout",
     "output_type": "stream",
     "text": [
      "Средние пользовательские рейтиги для XOne: 6.52\n",
      "Средние пользовательские рейтиги для PC: 6.43\n"
     ]
    }
   ],
   "source": [
    "print('Средние пользовательские рейтиги для XOne:', array_1.mean().round(2))\n",
    "print('Средние пользовательские рейтиги для PC:', array_2.mean().round(2))"
   ]
  },
  {
   "cell_type": "markdown",
   "id": "a2ba8f3a",
   "metadata": {},
   "source": [
    "**Средние пользовательские рейтинги жанров Action (англ. «действие», экшен-игры) и Sports (англ. «спортивные соревнования») разные**\n",
    "\n",
    "```\n",
    "H_0: Средние пользовательские рейтинги жанра Action = средние пользовательские рейтинги жанра Sports\n",
    "H_a: Средние пользовательские рейтинги жанра Action ≠ средние пользовательские рейтинги жанра Sports\n",
    "alpha = 0.05\n",
    "```"
   ]
  },
  {
   "cell_type": "code",
   "execution_count": 45,
   "id": "eb4edc9b",
   "metadata": {
    "scrolled": true
   },
   "outputs": [
    {
     "name": "stdout",
     "output_type": "stream",
     "text": [
      "p-значение: 3.7163089460934874e-26\n",
      "Отвергаем нулевую гипотезу\n"
     ]
    }
   ],
   "source": [
    "array_3 = data_actual.loc[data_actual['genr'] == \"Action\", 'user_score'].dropna()\n",
    "array_4 = data_actual.loc[data_actual['genr'] == \"Sports\", 'user_score'].dropna()\n",
    "\n",
    "alpha = 0.05\n",
    "result_34 = st.ttest_ind(array_3, array_4)\n",
    "print('p-значение:', result_34.pvalue)\n",
    "\n",
    "if alpha > result_34.pvalue:\n",
    "    print('Отвергаем нулевую гипотезу')\n",
    "else:\n",
    "    print('Не получилось отвергнуть нулевую гипотезу') "
   ]
  },
  {
   "cell_type": "code",
   "execution_count": 46,
   "id": "6f7eec45",
   "metadata": {},
   "outputs": [
    {
     "name": "stdout",
     "output_type": "stream",
     "text": [
      "Средние пользовательские рейтиги для Action: 6.83\n",
      "Средние пользовательские рейтиги для Sports: 5.46\n"
     ]
    }
   ],
   "source": [
    "print('Средние пользовательские рейтиги для Action:', array_3.mean().round(2))\n",
    "print('Средние пользовательские рейтиги для Sports:', array_4.mean().round(2))"
   ]
  },
  {
   "cell_type": "markdown",
   "id": "d42a8359",
   "metadata": {},
   "source": [
    "## Общие выводы"
   ]
  },
  {
   "cell_type": "markdown",
   "id": "a964d430",
   "metadata": {},
   "source": [
    "Проанализирован датасет, содержащий данные о годе релиза игры, платформе, её продажах в разных регионах и оценках со стороны игроков и критивов. В ходе переработки данных удалены некоторые пропуски, исправлены названия столбцов и их форматы. После переработки объем данных составил  98.39% от изначального.\n",
    "\n",
    "\n",
    "1. Датасет охватывает временной промежуток с 1980 по 2016 год включительно. После 1995 года количество выпускаемых игр стало постепенно увеличиваться, также есть резкие скачки в 2001 (в сторону увеличения) и в 2011 (количество релизов резко упало). Пик приходится на период с 2007 на 2008 годы: тогда количество релизов достигало 1400 игр в год. В среднем в датасете игры были выпущены в 2006-2007 году.\n",
    "  \n",
    "  \n",
    "2. **Новые платформы появляются и исчезают в среднем за 6-7**. Самыми прибыльными являются PS2, X360, PS3, Wii и DS, однако, согласно продажам за последние несколько лет, они уже не на пике своей популярности. Относительно **новыми и перспективными можно считать такие платформы, как PS4, WiiU и XOne**. Стоит обратить внимание, что большинство из этих платформ являются преемниками более старых своих версий, а значит переход на них произойдет постепенно и не следует ждать высоких продаж в первые несколько лет. Эту же тенденцию демонстрировали и PS2, которая пришла вместо PS, и X360 после XB.\n",
    " \n",
    " \n",
    "3. **В качестве актуального периода для планирования прогнозов на 2017 год были взяты данные за последние 5 лет**: именно такой период можно считать актуальным, ведь тенденции на рынке игр меняются очень быстро.\n",
    "\n",
    "\n",
    "4. **Жители Европы и Северной Америки больше покупают игры в жанрах экшн, шутер, спорт и ролевые игры**; при этом по продажам выделяются сразу два сегмента: игры для взрослых (M) и игры для любого возраста (E). **Жители Японии не любят шутеры и демонстрируют интерес в первую очередь к ролевым играм и экшну**. Возрастной рейтинг у самых продаваемых игр в данном регионе ниже: больше всего игр для всех (E) и для подростков (T), однако большинство игр вообще не имеют рейтинга. Получается, в восточном сегменте более молодая целевая аудитория.\n",
    "\n",
    "    Различаются и предпочтения в платформах: в NA лидирует Xbox360, далее по прибыльности идут PS3, PS4, XOne и 3DS; в EU больше предпочитаю Play Station, a не Xbox, PS3 и PS4 занимают первые 2 места по продажам в регионе. Самой популярной платформной в JP является 3DS, далее идут PS3, PSV, PS4 и WiiU. Xbox же вообще не вошел в топ-5.\n",
    "    \n",
    "    \n",
    "5. Таким образом, при выборе жанра (в частности выбором между шутером и ролевой игрой) следует ориентироваться на регион. Не смотря на то, что игры жанра экшн лидируют по продажам, динамика средних продаж по одной одной игре за актуальный период у него отрицательная. Медианные продажи больше всего у жанров \"шутер\", \"спорт\" и \"платформер\". Не стоит забывать и про выбросы - они демонстрируют примеры крайне успешных игр. Например, в жанрах экшн, ролевые игры и шутер есть продукты, суммарные продажи которых превысили 10 млн копий.\n",
    "\n",
    "\n",
    "6. При проверке гипотезы о том, что средние пользовательские рейтинги платформ Xbox One и PC одинаковые, при статистическом уровне значимости 5% оснований для её опровержения не было выявлено. Гипотеза о том, что средние пользовательские рейтинги жанров Action и Sports разные, не была отвергнута.\n",
    "\n",
    "**По итогам анализа стоит обратить внимание на платформы *PS4, XOne и 3DS*, а также на жанры \"шутер\", \"экшн\", \"спорт\" и \"платформер\". При выборе платформы и жанра необходимо учитывать особенности целевого региона.**"
   ]
  }
 ],
 "metadata": {
  "ExecuteTimeLog": [
   {
    "duration": 1301,
    "start_time": "2022-09-12T12:33:48.577Z"
   },
   {
    "duration": 146,
    "start_time": "2022-09-12T12:33:49.880Z"
   },
   {
    "duration": 0,
    "start_time": "2022-09-12T12:33:50.029Z"
   },
   {
    "duration": 1,
    "start_time": "2022-09-12T12:33:50.031Z"
   },
   {
    "duration": 0,
    "start_time": "2022-09-12T12:33:50.033Z"
   },
   {
    "duration": 0,
    "start_time": "2022-09-12T12:33:50.035Z"
   },
   {
    "duration": 0,
    "start_time": "2022-09-12T12:33:50.036Z"
   },
   {
    "duration": 0,
    "start_time": "2022-09-12T12:33:50.037Z"
   },
   {
    "duration": 0,
    "start_time": "2022-09-12T12:33:50.039Z"
   },
   {
    "duration": 0,
    "start_time": "2022-09-12T12:33:50.041Z"
   },
   {
    "duration": 0,
    "start_time": "2022-09-12T12:33:50.042Z"
   },
   {
    "duration": 0,
    "start_time": "2022-09-12T12:33:50.043Z"
   },
   {
    "duration": 0,
    "start_time": "2022-09-12T12:33:50.044Z"
   },
   {
    "duration": 0,
    "start_time": "2022-09-12T12:33:50.045Z"
   },
   {
    "duration": 0,
    "start_time": "2022-09-12T12:33:50.047Z"
   },
   {
    "duration": 0,
    "start_time": "2022-09-12T12:33:50.048Z"
   },
   {
    "duration": 0,
    "start_time": "2022-09-12T12:33:50.049Z"
   },
   {
    "duration": 0,
    "start_time": "2022-09-12T12:33:50.050Z"
   },
   {
    "duration": 0,
    "start_time": "2022-09-12T12:33:50.051Z"
   },
   {
    "duration": 0,
    "start_time": "2022-09-12T12:33:50.053Z"
   },
   {
    "duration": 0,
    "start_time": "2022-09-12T12:33:50.054Z"
   },
   {
    "duration": 0,
    "start_time": "2022-09-12T12:33:50.056Z"
   },
   {
    "duration": 0,
    "start_time": "2022-09-12T12:33:50.057Z"
   },
   {
    "duration": 0,
    "start_time": "2022-09-12T12:33:50.059Z"
   },
   {
    "duration": 0,
    "start_time": "2022-09-12T12:33:50.109Z"
   },
   {
    "duration": 0,
    "start_time": "2022-09-12T12:33:50.111Z"
   },
   {
    "duration": 0,
    "start_time": "2022-09-12T12:33:50.112Z"
   },
   {
    "duration": 0,
    "start_time": "2022-09-12T12:33:50.112Z"
   },
   {
    "duration": 0,
    "start_time": "2022-09-12T12:33:50.113Z"
   },
   {
    "duration": 0,
    "start_time": "2022-09-12T12:33:50.113Z"
   },
   {
    "duration": 0,
    "start_time": "2022-09-12T12:33:50.114Z"
   },
   {
    "duration": 0,
    "start_time": "2022-09-12T12:33:50.115Z"
   },
   {
    "duration": 0,
    "start_time": "2022-09-12T12:33:50.116Z"
   },
   {
    "duration": 0,
    "start_time": "2022-09-12T12:33:50.117Z"
   },
   {
    "duration": 0,
    "start_time": "2022-09-12T12:33:50.118Z"
   },
   {
    "duration": 0,
    "start_time": "2022-09-12T12:33:50.119Z"
   },
   {
    "duration": 0,
    "start_time": "2022-09-12T12:33:50.120Z"
   },
   {
    "duration": 0,
    "start_time": "2022-09-12T12:33:50.120Z"
   },
   {
    "duration": 0,
    "start_time": "2022-09-12T12:33:50.121Z"
   },
   {
    "duration": 119,
    "start_time": "2022-09-12T12:37:13.827Z"
   },
   {
    "duration": 1220,
    "start_time": "2022-09-12T12:37:24.163Z"
   },
   {
    "duration": 102,
    "start_time": "2022-09-12T12:37:25.385Z"
   },
   {
    "duration": 13,
    "start_time": "2022-09-12T12:37:25.489Z"
   },
   {
    "duration": 626,
    "start_time": "2022-09-12T12:37:25.504Z"
   },
   {
    "duration": 3,
    "start_time": "2022-09-12T12:37:26.133Z"
   },
   {
    "duration": 156,
    "start_time": "2022-09-12T12:37:26.137Z"
   },
   {
    "duration": 0,
    "start_time": "2022-09-12T12:37:26.297Z"
   },
   {
    "duration": 0,
    "start_time": "2022-09-12T12:37:26.298Z"
   },
   {
    "duration": 0,
    "start_time": "2022-09-12T12:37:26.300Z"
   },
   {
    "duration": 0,
    "start_time": "2022-09-12T12:37:26.315Z"
   },
   {
    "duration": 0,
    "start_time": "2022-09-12T12:37:26.317Z"
   },
   {
    "duration": 0,
    "start_time": "2022-09-12T12:37:26.319Z"
   },
   {
    "duration": 0,
    "start_time": "2022-09-12T12:37:26.321Z"
   },
   {
    "duration": 1,
    "start_time": "2022-09-12T12:37:26.322Z"
   },
   {
    "duration": 0,
    "start_time": "2022-09-12T12:37:26.324Z"
   },
   {
    "duration": 0,
    "start_time": "2022-09-12T12:37:26.325Z"
   },
   {
    "duration": 0,
    "start_time": "2022-09-12T12:37:26.327Z"
   },
   {
    "duration": 0,
    "start_time": "2022-09-12T12:37:26.328Z"
   },
   {
    "duration": 0,
    "start_time": "2022-09-12T12:37:26.330Z"
   },
   {
    "duration": 0,
    "start_time": "2022-09-12T12:37:26.331Z"
   },
   {
    "duration": 0,
    "start_time": "2022-09-12T12:37:26.332Z"
   },
   {
    "duration": 0,
    "start_time": "2022-09-12T12:37:26.333Z"
   },
   {
    "duration": 0,
    "start_time": "2022-09-12T12:37:26.334Z"
   },
   {
    "duration": 0,
    "start_time": "2022-09-12T12:37:26.335Z"
   },
   {
    "duration": 0,
    "start_time": "2022-09-12T12:37:26.336Z"
   },
   {
    "duration": 0,
    "start_time": "2022-09-12T12:37:26.337Z"
   },
   {
    "duration": 0,
    "start_time": "2022-09-12T12:37:26.337Z"
   },
   {
    "duration": 0,
    "start_time": "2022-09-12T12:37:26.338Z"
   },
   {
    "duration": 0,
    "start_time": "2022-09-12T12:37:26.339Z"
   },
   {
    "duration": 0,
    "start_time": "2022-09-12T12:37:26.340Z"
   },
   {
    "duration": 0,
    "start_time": "2022-09-12T12:37:26.341Z"
   },
   {
    "duration": 0,
    "start_time": "2022-09-12T12:37:26.342Z"
   },
   {
    "duration": 0,
    "start_time": "2022-09-12T12:37:26.343Z"
   },
   {
    "duration": 0,
    "start_time": "2022-09-12T12:37:26.344Z"
   },
   {
    "duration": 0,
    "start_time": "2022-09-12T12:37:26.345Z"
   },
   {
    "duration": 0,
    "start_time": "2022-09-12T12:37:26.346Z"
   },
   {
    "duration": 0,
    "start_time": "2022-09-12T12:37:26.347Z"
   },
   {
    "duration": 0,
    "start_time": "2022-09-12T12:37:26.348Z"
   },
   {
    "duration": 0,
    "start_time": "2022-09-12T12:37:26.350Z"
   },
   {
    "duration": 1181,
    "start_time": "2022-09-12T20:28:42.100Z"
   },
   {
    "duration": 3,
    "start_time": "2022-09-12T20:28:43.283Z"
   },
   {
    "duration": 167,
    "start_time": "2022-09-12T20:28:43.288Z"
   },
   {
    "duration": 16,
    "start_time": "2022-09-12T20:28:43.456Z"
   },
   {
    "duration": 737,
    "start_time": "2022-09-12T20:28:43.474Z"
   },
   {
    "duration": 7,
    "start_time": "2022-09-12T20:28:44.213Z"
   },
   {
    "duration": 25,
    "start_time": "2022-09-12T20:28:44.222Z"
   },
   {
    "duration": 125,
    "start_time": "2022-09-12T20:28:44.249Z"
   },
   {
    "duration": 0,
    "start_time": "2022-09-12T20:28:44.376Z"
   },
   {
    "duration": 0,
    "start_time": "2022-09-12T20:28:44.377Z"
   },
   {
    "duration": 0,
    "start_time": "2022-09-12T20:28:44.378Z"
   },
   {
    "duration": 0,
    "start_time": "2022-09-12T20:28:44.380Z"
   },
   {
    "duration": 0,
    "start_time": "2022-09-12T20:28:44.381Z"
   },
   {
    "duration": 0,
    "start_time": "2022-09-12T20:28:44.382Z"
   },
   {
    "duration": 0,
    "start_time": "2022-09-12T20:28:44.383Z"
   },
   {
    "duration": 0,
    "start_time": "2022-09-12T20:28:44.386Z"
   },
   {
    "duration": 0,
    "start_time": "2022-09-12T20:28:44.387Z"
   },
   {
    "duration": 0,
    "start_time": "2022-09-12T20:28:44.389Z"
   },
   {
    "duration": 0,
    "start_time": "2022-09-12T20:28:44.390Z"
   },
   {
    "duration": 0,
    "start_time": "2022-09-12T20:28:44.392Z"
   },
   {
    "duration": 0,
    "start_time": "2022-09-12T20:28:44.393Z"
   },
   {
    "duration": 0,
    "start_time": "2022-09-12T20:28:44.421Z"
   },
   {
    "duration": 0,
    "start_time": "2022-09-12T20:28:44.422Z"
   },
   {
    "duration": 0,
    "start_time": "2022-09-12T20:28:44.423Z"
   },
   {
    "duration": 0,
    "start_time": "2022-09-12T20:28:44.424Z"
   },
   {
    "duration": 0,
    "start_time": "2022-09-12T20:28:44.426Z"
   },
   {
    "duration": 0,
    "start_time": "2022-09-12T20:28:44.426Z"
   },
   {
    "duration": 0,
    "start_time": "2022-09-12T20:28:44.427Z"
   },
   {
    "duration": 0,
    "start_time": "2022-09-12T20:28:44.429Z"
   },
   {
    "duration": 0,
    "start_time": "2022-09-12T20:28:44.430Z"
   },
   {
    "duration": 0,
    "start_time": "2022-09-12T20:28:44.431Z"
   },
   {
    "duration": 0,
    "start_time": "2022-09-12T20:28:44.432Z"
   },
   {
    "duration": 0,
    "start_time": "2022-09-12T20:28:44.433Z"
   },
   {
    "duration": 0,
    "start_time": "2022-09-12T20:28:44.434Z"
   },
   {
    "duration": 0,
    "start_time": "2022-09-12T20:28:44.435Z"
   },
   {
    "duration": 0,
    "start_time": "2022-09-12T20:28:44.437Z"
   },
   {
    "duration": 0,
    "start_time": "2022-09-12T20:28:44.438Z"
   },
   {
    "duration": 0,
    "start_time": "2022-09-12T20:28:44.439Z"
   },
   {
    "duration": 0,
    "start_time": "2022-09-12T20:28:44.440Z"
   },
   {
    "duration": 0,
    "start_time": "2022-09-12T20:28:44.441Z"
   },
   {
    "duration": 0,
    "start_time": "2022-09-12T20:28:44.442Z"
   },
   {
    "duration": 59,
    "start_time": "2022-09-13T13:08:02.970Z"
   },
   {
    "duration": 1245,
    "start_time": "2022-09-13T13:08:07.362Z"
   },
   {
    "duration": 4,
    "start_time": "2022-09-13T13:08:08.609Z"
   },
   {
    "duration": 163,
    "start_time": "2022-09-13T13:08:08.615Z"
   },
   {
    "duration": 22,
    "start_time": "2022-09-13T13:08:08.781Z"
   },
   {
    "duration": 749,
    "start_time": "2022-09-13T13:08:08.805Z"
   },
   {
    "duration": 3,
    "start_time": "2022-09-13T13:08:09.556Z"
   },
   {
    "duration": 32,
    "start_time": "2022-09-13T13:08:09.561Z"
   },
   {
    "duration": 67,
    "start_time": "2022-09-13T13:08:10.391Z"
   },
   {
    "duration": 15,
    "start_time": "2022-09-13T13:08:14.199Z"
   },
   {
    "duration": 7,
    "start_time": "2022-09-13T13:08:15.103Z"
   },
   {
    "duration": 3,
    "start_time": "2022-09-13T13:08:44.859Z"
   },
   {
    "duration": 9,
    "start_time": "2022-09-13T13:08:44.864Z"
   },
   {
    "duration": 131,
    "start_time": "2022-09-13T13:08:44.875Z"
   },
   {
    "duration": 13,
    "start_time": "2022-09-13T13:08:45.008Z"
   },
   {
    "duration": 662,
    "start_time": "2022-09-13T13:08:45.024Z"
   },
   {
    "duration": 4,
    "start_time": "2022-09-13T13:08:45.687Z"
   },
   {
    "duration": 36,
    "start_time": "2022-09-13T13:08:45.692Z"
   },
   {
    "duration": 15,
    "start_time": "2022-09-13T13:08:45.729Z"
   },
   {
    "duration": 5,
    "start_time": "2022-09-13T13:08:45.745Z"
   },
   {
    "duration": 12,
    "start_time": "2022-09-13T13:08:45.751Z"
   },
   {
    "duration": 137,
    "start_time": "2022-09-13T13:08:45.765Z"
   },
   {
    "duration": 135,
    "start_time": "2022-09-13T13:08:45.904Z"
   },
   {
    "duration": 20,
    "start_time": "2022-09-13T13:08:46.041Z"
   },
   {
    "duration": 3,
    "start_time": "2022-09-13T13:08:46.064Z"
   },
   {
    "duration": 379,
    "start_time": "2022-09-13T13:08:46.069Z"
   },
   {
    "duration": 918,
    "start_time": "2022-09-13T13:08:46.450Z"
   },
   {
    "duration": 8,
    "start_time": "2022-09-13T13:08:47.370Z"
   },
   {
    "duration": 21,
    "start_time": "2022-09-13T13:08:47.380Z"
   },
   {
    "duration": 229,
    "start_time": "2022-09-13T13:08:47.403Z"
   },
   {
    "duration": 161,
    "start_time": "2022-09-13T13:08:47.634Z"
   },
   {
    "duration": 8,
    "start_time": "2022-09-13T13:08:47.797Z"
   },
   {
    "duration": 291,
    "start_time": "2022-09-13T13:08:47.806Z"
   },
   {
    "duration": 19,
    "start_time": "2022-09-13T13:08:48.100Z"
   },
   {
    "duration": 144,
    "start_time": "2022-09-13T13:08:48.121Z"
   },
   {
    "duration": 156,
    "start_time": "2022-09-13T13:08:48.267Z"
   },
   {
    "duration": 164,
    "start_time": "2022-09-13T13:08:48.425Z"
   },
   {
    "duration": 13,
    "start_time": "2022-09-13T13:08:48.600Z"
   },
   {
    "duration": 436,
    "start_time": "2022-09-13T13:08:48.614Z"
   },
   {
    "duration": 1359,
    "start_time": "2022-09-13T13:08:49.052Z"
   },
   {
    "duration": 74,
    "start_time": "2022-09-13T13:08:50.413Z"
   },
   {
    "duration": 76,
    "start_time": "2022-09-13T13:08:50.500Z"
   },
   {
    "duration": 142,
    "start_time": "2022-09-13T13:08:50.577Z"
   },
   {
    "duration": 82,
    "start_time": "2022-09-13T13:08:50.721Z"
   },
   {
    "duration": 74,
    "start_time": "2022-09-13T13:08:50.805Z"
   },
   {
    "duration": 136,
    "start_time": "2022-09-13T13:08:50.881Z"
   },
   {
    "duration": 69,
    "start_time": "2022-09-13T13:08:51.018Z"
   },
   {
    "duration": 160,
    "start_time": "2022-09-13T13:08:51.101Z"
   },
   {
    "duration": 138,
    "start_time": "2022-09-13T13:08:51.262Z"
   },
   {
    "duration": 10,
    "start_time": "2022-09-13T13:08:51.402Z"
   },
   {
    "duration": 1050,
    "start_time": "2022-09-13T20:22:40.155Z"
   },
   {
    "duration": 3,
    "start_time": "2022-09-13T20:22:41.207Z"
   },
   {
    "duration": 146,
    "start_time": "2022-09-13T20:22:41.211Z"
   },
   {
    "duration": 12,
    "start_time": "2022-09-13T20:22:41.359Z"
   },
   {
    "duration": 601,
    "start_time": "2022-09-13T20:22:41.372Z"
   },
   {
    "duration": 3,
    "start_time": "2022-09-13T20:22:41.975Z"
   },
   {
    "duration": 31,
    "start_time": "2022-09-13T20:22:41.979Z"
   },
   {
    "duration": 13,
    "start_time": "2022-09-13T20:22:42.011Z"
   },
   {
    "duration": 5,
    "start_time": "2022-09-13T20:22:42.025Z"
   },
   {
    "duration": 8,
    "start_time": "2022-09-13T20:22:42.032Z"
   },
   {
    "duration": 121,
    "start_time": "2022-09-13T20:22:42.042Z"
   },
   {
    "duration": 109,
    "start_time": "2022-09-13T20:22:42.164Z"
   },
   {
    "duration": 16,
    "start_time": "2022-09-13T20:22:42.275Z"
   },
   {
    "duration": 17,
    "start_time": "2022-09-13T20:22:42.292Z"
   },
   {
    "duration": 250,
    "start_time": "2022-09-13T20:22:42.311Z"
   },
   {
    "duration": 799,
    "start_time": "2022-09-13T20:22:42.562Z"
   },
   {
    "duration": 7,
    "start_time": "2022-09-13T20:22:43.362Z"
   },
   {
    "duration": 34,
    "start_time": "2022-09-13T20:22:43.370Z"
   },
   {
    "duration": 235,
    "start_time": "2022-09-13T20:22:43.406Z"
   },
   {
    "duration": 181,
    "start_time": "2022-09-13T20:22:43.642Z"
   },
   {
    "duration": 7,
    "start_time": "2022-09-13T20:22:43.824Z"
   },
   {
    "duration": 279,
    "start_time": "2022-09-13T20:22:43.833Z"
   },
   {
    "duration": 16,
    "start_time": "2022-09-13T20:22:44.113Z"
   },
   {
    "duration": 125,
    "start_time": "2022-09-13T20:22:44.130Z"
   },
   {
    "duration": 128,
    "start_time": "2022-09-13T20:22:44.256Z"
   },
   {
    "duration": 189,
    "start_time": "2022-09-13T20:22:44.386Z"
   },
   {
    "duration": 17,
    "start_time": "2022-09-13T20:22:44.577Z"
   },
   {
    "duration": 304,
    "start_time": "2022-09-13T20:22:44.609Z"
   },
   {
    "duration": 1192,
    "start_time": "2022-09-13T20:22:44.914Z"
   },
   {
    "duration": 150,
    "start_time": "2022-09-13T20:22:46.109Z"
   },
   {
    "duration": 87,
    "start_time": "2022-09-13T20:22:46.260Z"
   },
   {
    "duration": 100,
    "start_time": "2022-09-13T20:22:46.349Z"
   },
   {
    "duration": 83,
    "start_time": "2022-09-13T20:22:46.451Z"
   },
   {
    "duration": 78,
    "start_time": "2022-09-13T20:22:46.536Z"
   },
   {
    "duration": 110,
    "start_time": "2022-09-13T20:22:46.616Z"
   },
   {
    "duration": 64,
    "start_time": "2022-09-13T20:22:46.728Z"
   },
   {
    "duration": 81,
    "start_time": "2022-09-13T20:22:46.794Z"
   },
   {
    "duration": 118,
    "start_time": "2022-09-13T20:22:46.876Z"
   },
   {
    "duration": 15,
    "start_time": "2022-09-13T20:22:46.995Z"
   },
   {
    "duration": 6,
    "start_time": "2022-09-13T20:22:47.012Z"
   },
   {
    "duration": 119,
    "start_time": "2022-09-13T20:26:46.595Z"
   },
   {
    "duration": 8,
    "start_time": "2022-09-13T20:27:00.553Z"
   },
   {
    "duration": 7,
    "start_time": "2022-09-13T20:28:55.331Z"
   },
   {
    "duration": 3,
    "start_time": "2022-09-13T20:29:57.039Z"
   },
   {
    "duration": 856,
    "start_time": "2022-09-13T20:35:50.185Z"
   },
   {
    "duration": 67,
    "start_time": "2022-09-13T20:36:20.994Z"
   },
   {
    "duration": 9,
    "start_time": "2022-09-13T21:43:54.696Z"
   },
   {
    "duration": 1551,
    "start_time": "2022-09-14T08:46:23.390Z"
   },
   {
    "duration": 4,
    "start_time": "2022-09-14T08:46:24.943Z"
   },
   {
    "duration": 316,
    "start_time": "2022-09-14T08:46:24.949Z"
   },
   {
    "duration": 13,
    "start_time": "2022-09-14T08:46:25.267Z"
   },
   {
    "duration": 611,
    "start_time": "2022-09-14T08:46:25.281Z"
   },
   {
    "duration": 3,
    "start_time": "2022-09-14T08:46:25.899Z"
   },
   {
    "duration": 27,
    "start_time": "2022-09-14T08:46:27.645Z"
   },
   {
    "duration": 18,
    "start_time": "2022-09-14T08:46:53.533Z"
   },
   {
    "duration": 17,
    "start_time": "2022-09-14T08:46:55.588Z"
   },
   {
    "duration": 4,
    "start_time": "2022-09-14T08:47:04.549Z"
   },
   {
    "duration": 24,
    "start_time": "2022-09-14T08:47:04.555Z"
   },
   {
    "duration": 164,
    "start_time": "2022-09-14T08:47:04.582Z"
   },
   {
    "duration": 14,
    "start_time": "2022-09-14T08:47:04.748Z"
   },
   {
    "duration": 596,
    "start_time": "2022-09-14T08:47:04.764Z"
   },
   {
    "duration": 3,
    "start_time": "2022-09-14T08:47:05.362Z"
   },
   {
    "duration": 33,
    "start_time": "2022-09-14T08:47:05.367Z"
   },
   {
    "duration": 13,
    "start_time": "2022-09-14T08:47:05.402Z"
   },
   {
    "duration": 6,
    "start_time": "2022-09-14T08:47:05.416Z"
   },
   {
    "duration": 18,
    "start_time": "2022-09-14T08:47:05.426Z"
   },
   {
    "duration": 128,
    "start_time": "2022-09-14T08:47:05.447Z"
   },
   {
    "duration": 129,
    "start_time": "2022-09-14T08:47:05.577Z"
   },
   {
    "duration": 18,
    "start_time": "2022-09-14T08:47:05.708Z"
   },
   {
    "duration": 18,
    "start_time": "2022-09-14T08:47:05.727Z"
   },
   {
    "duration": 64,
    "start_time": "2022-09-14T08:47:06.931Z"
   },
   {
    "duration": 122,
    "start_time": "2022-09-14T08:48:23.820Z"
   },
   {
    "duration": 11,
    "start_time": "2022-09-14T08:48:41.380Z"
   },
   {
    "duration": 18,
    "start_time": "2022-09-14T08:48:43.243Z"
   },
   {
    "duration": 20,
    "start_time": "2022-09-14T08:48:56.365Z"
   },
   {
    "duration": 20,
    "start_time": "2022-09-14T08:49:01.986Z"
   },
   {
    "duration": 48,
    "start_time": "2022-09-14T08:49:13.266Z"
   },
   {
    "duration": 16,
    "start_time": "2022-09-14T08:49:16.450Z"
   },
   {
    "duration": 7,
    "start_time": "2022-09-14T08:49:50.281Z"
   },
   {
    "duration": 7,
    "start_time": "2022-09-14T08:49:54.233Z"
   },
   {
    "duration": 88,
    "start_time": "2022-09-14T08:50:26.873Z"
   },
   {
    "duration": 21,
    "start_time": "2022-09-14T08:50:30.802Z"
   },
   {
    "duration": 13,
    "start_time": "2022-09-14T08:51:44.040Z"
   },
   {
    "duration": 12,
    "start_time": "2022-09-14T08:51:52.216Z"
   },
   {
    "duration": 24,
    "start_time": "2022-09-14T08:51:59.728Z"
   },
   {
    "duration": 28,
    "start_time": "2022-09-14T08:52:32.104Z"
   },
   {
    "duration": 8,
    "start_time": "2022-09-14T08:52:47.407Z"
   },
   {
    "duration": 51,
    "start_time": "2022-09-14T08:52:54.423Z"
   },
   {
    "duration": 12,
    "start_time": "2022-09-14T08:53:00.240Z"
   },
   {
    "duration": 12,
    "start_time": "2022-09-14T08:53:08.311Z"
   },
   {
    "duration": 14,
    "start_time": "2022-09-14T08:53:35.855Z"
   },
   {
    "duration": 22,
    "start_time": "2022-09-14T08:53:58.318Z"
   },
   {
    "duration": 31,
    "start_time": "2022-09-14T08:54:02.510Z"
   },
   {
    "duration": 34,
    "start_time": "2022-09-14T08:55:01.391Z"
   },
   {
    "duration": 31,
    "start_time": "2022-09-14T08:56:48.005Z"
   },
   {
    "duration": 46,
    "start_time": "2022-09-14T08:57:08.141Z"
   },
   {
    "duration": 37,
    "start_time": "2022-09-14T08:57:29.669Z"
   },
   {
    "duration": 49,
    "start_time": "2022-09-14T08:57:54.588Z"
   },
   {
    "duration": 26,
    "start_time": "2022-09-14T08:57:58.661Z"
   },
   {
    "duration": 30,
    "start_time": "2022-09-14T09:01:50.505Z"
   },
   {
    "duration": 27,
    "start_time": "2022-09-14T09:02:33.761Z"
   },
   {
    "duration": 40,
    "start_time": "2022-09-14T09:02:36.689Z"
   },
   {
    "duration": 45,
    "start_time": "2022-09-14T09:03:01.097Z"
   },
   {
    "duration": 45,
    "start_time": "2022-09-14T09:03:09.362Z"
   },
   {
    "duration": 49,
    "start_time": "2022-09-14T09:03:20.562Z"
   },
   {
    "duration": 38,
    "start_time": "2022-09-14T09:03:27.218Z"
   },
   {
    "duration": 40,
    "start_time": "2022-09-14T09:03:35.122Z"
   },
   {
    "duration": 48,
    "start_time": "2022-09-14T09:03:46.291Z"
   },
   {
    "duration": 40,
    "start_time": "2022-09-14T09:03:53.666Z"
   },
   {
    "duration": 40,
    "start_time": "2022-09-14T09:04:09.226Z"
   },
   {
    "duration": 41,
    "start_time": "2022-09-14T09:04:14.905Z"
   },
   {
    "duration": 12,
    "start_time": "2022-09-14T09:05:16.864Z"
   },
   {
    "duration": 16,
    "start_time": "2022-09-14T09:06:40.678Z"
   },
   {
    "duration": 15,
    "start_time": "2022-09-14T09:06:57.862Z"
   },
   {
    "duration": 100,
    "start_time": "2022-09-14T09:08:21.448Z"
   },
   {
    "duration": 17,
    "start_time": "2022-09-14T09:08:32.395Z"
   },
   {
    "duration": 15,
    "start_time": "2022-09-14T09:08:41.795Z"
   },
   {
    "duration": 24,
    "start_time": "2022-09-14T09:08:55.349Z"
   },
   {
    "duration": 17,
    "start_time": "2022-09-14T09:09:16.196Z"
   },
   {
    "duration": 45,
    "start_time": "2022-09-14T09:17:23.296Z"
   },
   {
    "duration": 42,
    "start_time": "2022-09-14T09:17:34.768Z"
   },
   {
    "duration": 58,
    "start_time": "2022-09-14T09:18:00.255Z"
   },
   {
    "duration": 23,
    "start_time": "2022-09-14T09:18:41.588Z"
   },
   {
    "duration": 28,
    "start_time": "2022-09-14T09:21:39.533Z"
   },
   {
    "duration": 1083,
    "start_time": "2022-09-14T09:21:56.327Z"
   },
   {
    "duration": 4,
    "start_time": "2022-09-14T09:21:57.411Z"
   },
   {
    "duration": 377,
    "start_time": "2022-09-14T09:21:57.416Z"
   },
   {
    "duration": 13,
    "start_time": "2022-09-14T09:21:57.795Z"
   },
   {
    "duration": 625,
    "start_time": "2022-09-14T09:21:57.810Z"
   },
   {
    "duration": 3,
    "start_time": "2022-09-14T09:21:58.437Z"
   },
   {
    "duration": 36,
    "start_time": "2022-09-14T09:21:58.441Z"
   },
   {
    "duration": 28,
    "start_time": "2022-09-14T09:21:58.479Z"
   },
   {
    "duration": 5,
    "start_time": "2022-09-14T09:21:58.509Z"
   },
   {
    "duration": 24,
    "start_time": "2022-09-14T09:21:58.517Z"
   },
   {
    "duration": 117,
    "start_time": "2022-09-14T09:21:58.543Z"
   },
   {
    "duration": 117,
    "start_time": "2022-09-14T09:21:58.662Z"
   },
   {
    "duration": 122,
    "start_time": "2022-09-14T09:22:02.043Z"
   },
   {
    "duration": 3,
    "start_time": "2022-09-14T09:23:41.605Z"
   },
   {
    "duration": 12,
    "start_time": "2022-09-14T09:23:41.610Z"
   },
   {
    "duration": 179,
    "start_time": "2022-09-14T09:23:41.624Z"
   },
   {
    "duration": 13,
    "start_time": "2022-09-14T09:23:41.804Z"
   },
   {
    "duration": 625,
    "start_time": "2022-09-14T09:23:41.819Z"
   },
   {
    "duration": 3,
    "start_time": "2022-09-14T09:23:42.446Z"
   },
   {
    "duration": 25,
    "start_time": "2022-09-14T09:23:42.451Z"
   },
   {
    "duration": 32,
    "start_time": "2022-09-14T09:23:42.477Z"
   },
   {
    "duration": 5,
    "start_time": "2022-09-14T09:23:42.510Z"
   },
   {
    "duration": 24,
    "start_time": "2022-09-14T09:23:42.517Z"
   },
   {
    "duration": 3,
    "start_time": "2022-09-14T09:23:48.936Z"
   },
   {
    "duration": 6,
    "start_time": "2022-09-14T09:23:48.941Z"
   },
   {
    "duration": 229,
    "start_time": "2022-09-14T09:23:48.948Z"
   },
   {
    "duration": 14,
    "start_time": "2022-09-14T09:23:49.179Z"
   },
   {
    "duration": 716,
    "start_time": "2022-09-14T09:23:49.194Z"
   },
   {
    "duration": 4,
    "start_time": "2022-09-14T09:23:49.912Z"
   },
   {
    "duration": 30,
    "start_time": "2022-09-14T09:23:49.918Z"
   },
   {
    "duration": 13,
    "start_time": "2022-09-14T09:23:49.950Z"
   },
   {
    "duration": 6,
    "start_time": "2022-09-14T09:23:49.965Z"
   },
   {
    "duration": 37,
    "start_time": "2022-09-14T09:23:49.973Z"
   },
   {
    "duration": 7,
    "start_time": "2022-09-14T09:23:50.012Z"
   },
   {
    "duration": 131,
    "start_time": "2022-09-14T09:23:50.020Z"
   },
   {
    "duration": 134,
    "start_time": "2022-09-14T09:23:50.153Z"
   },
   {
    "duration": 20,
    "start_time": "2022-09-14T09:23:51.515Z"
   },
   {
    "duration": 35,
    "start_time": "2022-09-14T09:24:21.674Z"
   },
   {
    "duration": 28,
    "start_time": "2022-09-14T09:24:35.426Z"
   },
   {
    "duration": 26,
    "start_time": "2022-09-14T09:24:41.570Z"
   },
   {
    "duration": 24,
    "start_time": "2022-09-14T09:24:49.283Z"
   },
   {
    "duration": 36,
    "start_time": "2022-09-14T09:25:05.362Z"
   },
   {
    "duration": 29,
    "start_time": "2022-09-14T09:25:09.745Z"
   },
   {
    "duration": 24,
    "start_time": "2022-09-14T09:25:20.066Z"
   },
   {
    "duration": 1032,
    "start_time": "2022-09-14T09:25:36.863Z"
   },
   {
    "duration": 3,
    "start_time": "2022-09-14T09:25:37.898Z"
   },
   {
    "duration": 201,
    "start_time": "2022-09-14T09:25:37.902Z"
   },
   {
    "duration": 13,
    "start_time": "2022-09-14T09:25:38.106Z"
   },
   {
    "duration": 614,
    "start_time": "2022-09-14T09:25:38.121Z"
   },
   {
    "duration": 3,
    "start_time": "2022-09-14T09:25:38.736Z"
   },
   {
    "duration": 27,
    "start_time": "2022-09-14T09:25:38.741Z"
   },
   {
    "duration": 31,
    "start_time": "2022-09-14T09:25:38.769Z"
   },
   {
    "duration": 5,
    "start_time": "2022-09-14T09:25:38.802Z"
   },
   {
    "duration": 19,
    "start_time": "2022-09-14T09:25:38.809Z"
   },
   {
    "duration": 7,
    "start_time": "2022-09-14T09:25:38.830Z"
   },
   {
    "duration": 138,
    "start_time": "2022-09-14T09:25:38.839Z"
   },
   {
    "duration": 138,
    "start_time": "2022-09-14T09:25:38.979Z"
   },
   {
    "duration": 26,
    "start_time": "2022-09-14T09:25:39.119Z"
   },
   {
    "duration": 3,
    "start_time": "2022-09-14T09:25:39.147Z"
   },
   {
    "duration": 82,
    "start_time": "2022-09-14T09:25:39.152Z"
   },
   {
    "duration": 309,
    "start_time": "2022-09-14T09:25:39.236Z"
   },
   {
    "duration": 850,
    "start_time": "2022-09-14T09:25:39.547Z"
   },
   {
    "duration": 8,
    "start_time": "2022-09-14T09:25:40.398Z"
   },
   {
    "duration": 7,
    "start_time": "2022-09-14T09:25:40.408Z"
   },
   {
    "duration": 263,
    "start_time": "2022-09-14T09:25:40.416Z"
   },
   {
    "duration": 160,
    "start_time": "2022-09-14T09:25:40.680Z"
   },
   {
    "duration": 6,
    "start_time": "2022-09-14T09:25:40.842Z"
   },
   {
    "duration": 388,
    "start_time": "2022-09-14T09:25:40.850Z"
   },
   {
    "duration": 68,
    "start_time": "2022-09-14T09:25:41.239Z"
   },
   {
    "duration": 300,
    "start_time": "2022-09-14T09:25:41.308Z"
   },
   {
    "duration": 237,
    "start_time": "2022-09-14T09:25:41.611Z"
   },
   {
    "duration": 307,
    "start_time": "2022-09-14T09:25:41.901Z"
   },
   {
    "duration": 15,
    "start_time": "2022-09-14T09:25:42.209Z"
   },
   {
    "duration": 590,
    "start_time": "2022-09-14T09:25:42.225Z"
   },
   {
    "duration": 1194,
    "start_time": "2022-09-14T09:25:42.817Z"
   },
   {
    "duration": 170,
    "start_time": "2022-09-14T09:25:44.013Z"
   },
   {
    "duration": 87,
    "start_time": "2022-09-14T09:25:44.185Z"
   },
   {
    "duration": 114,
    "start_time": "2022-09-14T09:25:44.273Z"
   },
   {
    "duration": 94,
    "start_time": "2022-09-14T09:25:44.389Z"
   },
   {
    "duration": 116,
    "start_time": "2022-09-14T09:25:44.486Z"
   },
   {
    "duration": 142,
    "start_time": "2022-09-14T09:25:44.604Z"
   },
   {
    "duration": 92,
    "start_time": "2022-09-14T09:25:44.747Z"
   },
   {
    "duration": 85,
    "start_time": "2022-09-14T09:25:44.840Z"
   },
   {
    "duration": 136,
    "start_time": "2022-09-14T09:25:44.926Z"
   },
   {
    "duration": 9,
    "start_time": "2022-09-14T09:25:45.063Z"
   },
   {
    "duration": 12,
    "start_time": "2022-09-14T09:25:45.074Z"
   },
   {
    "duration": 17,
    "start_time": "2022-09-14T09:25:45.088Z"
   },
   {
    "duration": 1220,
    "start_time": "2022-09-14T09:26:04.179Z"
   },
   {
    "duration": 3,
    "start_time": "2022-09-14T09:26:05.401Z"
   },
   {
    "duration": 139,
    "start_time": "2022-09-14T09:26:05.406Z"
   },
   {
    "duration": 13,
    "start_time": "2022-09-14T09:26:05.547Z"
   },
   {
    "duration": 642,
    "start_time": "2022-09-14T09:26:05.561Z"
   },
   {
    "duration": 3,
    "start_time": "2022-09-14T09:26:06.205Z"
   },
   {
    "duration": 36,
    "start_time": "2022-09-14T09:26:06.210Z"
   },
   {
    "duration": 14,
    "start_time": "2022-09-14T09:26:06.247Z"
   },
   {
    "duration": 6,
    "start_time": "2022-09-14T09:26:06.262Z"
   },
   {
    "duration": 52,
    "start_time": "2022-09-14T09:26:06.270Z"
   },
   {
    "duration": 10,
    "start_time": "2022-09-14T09:26:06.324Z"
   },
   {
    "duration": 150,
    "start_time": "2022-09-14T09:26:06.336Z"
   },
   {
    "duration": 144,
    "start_time": "2022-09-14T09:26:06.487Z"
   },
   {
    "duration": 17,
    "start_time": "2022-09-14T09:26:06.632Z"
   },
   {
    "duration": 7,
    "start_time": "2022-09-14T09:26:06.651Z"
   },
   {
    "duration": 4,
    "start_time": "2022-09-14T09:26:06.659Z"
   },
   {
    "duration": 102,
    "start_time": "2022-09-14T09:26:06.665Z"
   },
   {
    "duration": 286,
    "start_time": "2022-09-14T09:26:06.768Z"
   },
   {
    "duration": 900,
    "start_time": "2022-09-14T09:26:07.055Z"
   },
   {
    "duration": 7,
    "start_time": "2022-09-14T09:26:07.957Z"
   },
   {
    "duration": 8,
    "start_time": "2022-09-14T09:26:07.965Z"
   },
   {
    "duration": 343,
    "start_time": "2022-09-14T09:26:07.975Z"
   },
   {
    "duration": 402,
    "start_time": "2022-09-14T09:26:08.319Z"
   },
   {
    "duration": 10,
    "start_time": "2022-09-14T09:26:08.723Z"
   },
   {
    "duration": 669,
    "start_time": "2022-09-14T09:26:08.734Z"
   },
   {
    "duration": 25,
    "start_time": "2022-09-14T09:26:09.405Z"
   },
   {
    "duration": 390,
    "start_time": "2022-09-14T09:26:09.432Z"
   },
   {
    "duration": 297,
    "start_time": "2022-09-14T09:26:09.825Z"
   },
   {
    "duration": 172,
    "start_time": "2022-09-14T09:26:10.124Z"
   },
   {
    "duration": 24,
    "start_time": "2022-09-14T09:26:10.298Z"
   },
   {
    "duration": 396,
    "start_time": "2022-09-14T09:26:10.325Z"
   },
   {
    "duration": 1366,
    "start_time": "2022-09-14T09:26:10.722Z"
   },
   {
    "duration": 170,
    "start_time": "2022-09-14T09:26:12.089Z"
   },
   {
    "duration": 88,
    "start_time": "2022-09-14T09:26:12.261Z"
   },
   {
    "duration": 118,
    "start_time": "2022-09-14T09:26:12.351Z"
   },
   {
    "duration": 85,
    "start_time": "2022-09-14T09:26:12.471Z"
   },
   {
    "duration": 91,
    "start_time": "2022-09-14T09:26:12.558Z"
   },
   {
    "duration": 129,
    "start_time": "2022-09-14T09:26:12.650Z"
   },
   {
    "duration": 92,
    "start_time": "2022-09-14T09:26:12.780Z"
   },
   {
    "duration": 78,
    "start_time": "2022-09-14T09:26:12.873Z"
   },
   {
    "duration": 136,
    "start_time": "2022-09-14T09:26:12.953Z"
   },
   {
    "duration": 11,
    "start_time": "2022-09-14T09:26:13.091Z"
   },
   {
    "duration": 25,
    "start_time": "2022-09-14T09:26:13.104Z"
   },
   {
    "duration": 10,
    "start_time": "2022-09-14T09:26:13.132Z"
   },
   {
    "duration": 261,
    "start_time": "2022-09-14T09:28:22.668Z"
   },
   {
    "duration": 382,
    "start_time": "2022-09-14T09:28:47.388Z"
   },
   {
    "duration": 278,
    "start_time": "2022-09-14T09:29:09.124Z"
   },
   {
    "duration": 269,
    "start_time": "2022-09-14T09:29:16.771Z"
   },
   {
    "duration": 311,
    "start_time": "2022-09-14T09:29:34.892Z"
   },
   {
    "duration": 280,
    "start_time": "2022-09-14T09:29:48.003Z"
   },
   {
    "duration": 7,
    "start_time": "2022-09-14T09:34:23.400Z"
   },
   {
    "duration": 303,
    "start_time": "2022-09-14T09:34:30.713Z"
   },
   {
    "duration": 105,
    "start_time": "2022-09-14T09:37:42.414Z"
   },
   {
    "duration": 1125,
    "start_time": "2022-09-14T09:37:59.283Z"
   },
   {
    "duration": 3,
    "start_time": "2022-09-14T09:38:00.410Z"
   },
   {
    "duration": 147,
    "start_time": "2022-09-14T09:38:00.415Z"
   },
   {
    "duration": 13,
    "start_time": "2022-09-14T09:38:00.563Z"
   },
   {
    "duration": 655,
    "start_time": "2022-09-14T09:38:00.578Z"
   },
   {
    "duration": 4,
    "start_time": "2022-09-14T09:38:01.235Z"
   },
   {
    "duration": 33,
    "start_time": "2022-09-14T09:38:01.241Z"
   },
   {
    "duration": 29,
    "start_time": "2022-09-14T09:38:01.276Z"
   },
   {
    "duration": 8,
    "start_time": "2022-09-14T09:38:01.307Z"
   },
   {
    "duration": 27,
    "start_time": "2022-09-14T09:38:01.319Z"
   },
   {
    "duration": 7,
    "start_time": "2022-09-14T09:38:01.348Z"
   },
   {
    "duration": 193,
    "start_time": "2022-09-14T09:38:01.357Z"
   },
   {
    "duration": 136,
    "start_time": "2022-09-14T09:38:01.552Z"
   },
   {
    "duration": 26,
    "start_time": "2022-09-14T09:38:01.690Z"
   },
   {
    "duration": 7,
    "start_time": "2022-09-14T09:38:01.718Z"
   },
   {
    "duration": 6,
    "start_time": "2022-09-14T09:38:01.726Z"
   },
   {
    "duration": 133,
    "start_time": "2022-09-14T09:38:01.734Z"
   },
   {
    "duration": 311,
    "start_time": "2022-09-14T09:38:01.869Z"
   },
   {
    "duration": 1322,
    "start_time": "2022-09-14T09:38:02.182Z"
   },
   {
    "duration": 321,
    "start_time": "2022-09-14T09:38:03.506Z"
   },
   {
    "duration": 0,
    "start_time": "2022-09-14T09:38:03.830Z"
   },
   {
    "duration": 0,
    "start_time": "2022-09-14T09:38:03.831Z"
   },
   {
    "duration": 0,
    "start_time": "2022-09-14T09:38:03.833Z"
   },
   {
    "duration": 0,
    "start_time": "2022-09-14T09:38:03.834Z"
   },
   {
    "duration": 0,
    "start_time": "2022-09-14T09:38:03.836Z"
   },
   {
    "duration": 0,
    "start_time": "2022-09-14T09:38:03.838Z"
   },
   {
    "duration": 0,
    "start_time": "2022-09-14T09:38:04.047Z"
   },
   {
    "duration": 0,
    "start_time": "2022-09-14T09:38:04.101Z"
   },
   {
    "duration": 0,
    "start_time": "2022-09-14T09:38:04.103Z"
   },
   {
    "duration": 0,
    "start_time": "2022-09-14T09:38:04.104Z"
   },
   {
    "duration": 0,
    "start_time": "2022-09-14T09:38:04.106Z"
   },
   {
    "duration": 0,
    "start_time": "2022-09-14T09:38:04.106Z"
   },
   {
    "duration": 0,
    "start_time": "2022-09-14T09:38:04.107Z"
   },
   {
    "duration": 0,
    "start_time": "2022-09-14T09:38:04.108Z"
   },
   {
    "duration": 0,
    "start_time": "2022-09-14T09:38:04.108Z"
   },
   {
    "duration": 0,
    "start_time": "2022-09-14T09:38:04.109Z"
   },
   {
    "duration": 0,
    "start_time": "2022-09-14T09:38:04.110Z"
   },
   {
    "duration": 0,
    "start_time": "2022-09-14T09:38:04.112Z"
   },
   {
    "duration": 0,
    "start_time": "2022-09-14T09:38:04.113Z"
   },
   {
    "duration": 0,
    "start_time": "2022-09-14T09:38:04.118Z"
   },
   {
    "duration": 0,
    "start_time": "2022-09-14T09:38:04.120Z"
   },
   {
    "duration": 0,
    "start_time": "2022-09-14T09:38:04.122Z"
   },
   {
    "duration": 0,
    "start_time": "2022-09-14T09:38:04.124Z"
   },
   {
    "duration": 0,
    "start_time": "2022-09-14T09:38:04.125Z"
   },
   {
    "duration": 0,
    "start_time": "2022-09-14T09:38:04.127Z"
   },
   {
    "duration": 20,
    "start_time": "2022-09-14T09:38:15.962Z"
   },
   {
    "duration": 324,
    "start_time": "2022-09-14T09:39:03.842Z"
   },
   {
    "duration": 1184,
    "start_time": "2022-09-14T09:40:34.323Z"
   },
   {
    "duration": 4,
    "start_time": "2022-09-14T09:40:35.509Z"
   },
   {
    "duration": 391,
    "start_time": "2022-09-14T09:40:35.514Z"
   },
   {
    "duration": 14,
    "start_time": "2022-09-14T09:40:35.907Z"
   },
   {
    "duration": 640,
    "start_time": "2022-09-14T09:40:35.923Z"
   },
   {
    "duration": 4,
    "start_time": "2022-09-14T09:40:36.565Z"
   },
   {
    "duration": 52,
    "start_time": "2022-09-14T09:40:36.571Z"
   },
   {
    "duration": 16,
    "start_time": "2022-09-14T09:40:36.625Z"
   },
   {
    "duration": 6,
    "start_time": "2022-09-14T09:40:36.642Z"
   },
   {
    "duration": 17,
    "start_time": "2022-09-14T09:40:36.650Z"
   },
   {
    "duration": 37,
    "start_time": "2022-09-14T09:40:36.668Z"
   },
   {
    "duration": 116,
    "start_time": "2022-09-14T09:40:36.707Z"
   },
   {
    "duration": 120,
    "start_time": "2022-09-14T09:40:36.824Z"
   },
   {
    "duration": 17,
    "start_time": "2022-09-14T09:40:36.946Z"
   },
   {
    "duration": 6,
    "start_time": "2022-09-14T09:40:36.965Z"
   },
   {
    "duration": 4,
    "start_time": "2022-09-14T09:40:36.972Z"
   },
   {
    "duration": 84,
    "start_time": "2022-09-14T09:40:36.978Z"
   },
   {
    "duration": 301,
    "start_time": "2022-09-14T09:40:37.063Z"
   },
   {
    "duration": 906,
    "start_time": "2022-09-14T09:40:37.366Z"
   },
   {
    "duration": 120,
    "start_time": "2022-09-14T09:40:38.921Z"
   },
   {
    "duration": 16,
    "start_time": "2022-09-14T09:41:05.297Z"
   },
   {
    "duration": 49,
    "start_time": "2022-09-14T09:41:12.872Z"
   },
   {
    "duration": 17,
    "start_time": "2022-09-14T09:41:16.055Z"
   },
   {
    "duration": 22,
    "start_time": "2022-09-14T09:41:28.473Z"
   },
   {
    "duration": 18,
    "start_time": "2022-09-14T09:41:36.415Z"
   },
   {
    "duration": 264,
    "start_time": "2022-09-14T09:42:59.015Z"
   },
   {
    "duration": 430,
    "start_time": "2022-09-14T09:44:45.614Z"
   },
   {
    "duration": 341,
    "start_time": "2022-09-14T09:44:55.102Z"
   },
   {
    "duration": 11,
    "start_time": "2022-09-14T09:46:22.648Z"
   },
   {
    "duration": 1088,
    "start_time": "2022-09-14T09:46:32.908Z"
   },
   {
    "duration": 3,
    "start_time": "2022-09-14T09:46:33.999Z"
   },
   {
    "duration": 259,
    "start_time": "2022-09-14T09:46:34.004Z"
   },
   {
    "duration": 13,
    "start_time": "2022-09-14T09:46:34.265Z"
   },
   {
    "duration": 715,
    "start_time": "2022-09-14T09:46:34.280Z"
   },
   {
    "duration": 5,
    "start_time": "2022-09-14T09:46:34.996Z"
   },
   {
    "duration": 31,
    "start_time": "2022-09-14T09:46:35.003Z"
   },
   {
    "duration": 14,
    "start_time": "2022-09-14T09:46:35.036Z"
   },
   {
    "duration": 6,
    "start_time": "2022-09-14T09:46:35.051Z"
   },
   {
    "duration": 48,
    "start_time": "2022-09-14T09:46:35.060Z"
   },
   {
    "duration": 7,
    "start_time": "2022-09-14T09:46:35.110Z"
   },
   {
    "duration": 136,
    "start_time": "2022-09-14T09:46:35.119Z"
   },
   {
    "duration": 158,
    "start_time": "2022-09-14T09:46:35.257Z"
   },
   {
    "duration": 16,
    "start_time": "2022-09-14T09:46:35.418Z"
   },
   {
    "duration": 6,
    "start_time": "2022-09-14T09:46:35.436Z"
   },
   {
    "duration": 10,
    "start_time": "2022-09-14T09:46:35.444Z"
   },
   {
    "duration": 94,
    "start_time": "2022-09-14T09:46:35.456Z"
   },
   {
    "duration": 292,
    "start_time": "2022-09-14T09:46:35.551Z"
   },
   {
    "duration": 860,
    "start_time": "2022-09-14T09:46:35.845Z"
   },
   {
    "duration": 97,
    "start_time": "2022-09-14T09:46:36.707Z"
   },
   {
    "duration": 426,
    "start_time": "2022-09-14T09:46:45.602Z"
   },
   {
    "duration": 12,
    "start_time": "2022-09-14T09:48:52.552Z"
   },
   {
    "duration": 18,
    "start_time": "2022-09-14T09:49:04.336Z"
   },
   {
    "duration": 17,
    "start_time": "2022-09-14T09:49:38.207Z"
   },
   {
    "duration": 22,
    "start_time": "2022-09-14T09:50:15.438Z"
   },
   {
    "duration": 15,
    "start_time": "2022-09-14T09:51:02.855Z"
   },
   {
    "duration": 6,
    "start_time": "2022-09-14T09:51:13.213Z"
   },
   {
    "duration": 1074,
    "start_time": "2022-09-14T09:53:25.411Z"
   },
   {
    "duration": 3,
    "start_time": "2022-09-14T09:53:26.487Z"
   },
   {
    "duration": 261,
    "start_time": "2022-09-14T09:53:26.491Z"
   },
   {
    "duration": 13,
    "start_time": "2022-09-14T09:53:26.754Z"
   },
   {
    "duration": 663,
    "start_time": "2022-09-14T09:53:26.768Z"
   },
   {
    "duration": 3,
    "start_time": "2022-09-14T09:53:27.433Z"
   },
   {
    "duration": 42,
    "start_time": "2022-09-14T09:53:27.438Z"
   },
   {
    "duration": 12,
    "start_time": "2022-09-14T09:53:27.482Z"
   },
   {
    "duration": 6,
    "start_time": "2022-09-14T09:53:27.495Z"
   },
   {
    "duration": 22,
    "start_time": "2022-09-14T09:53:27.503Z"
   },
   {
    "duration": 7,
    "start_time": "2022-09-14T09:53:27.526Z"
   },
   {
    "duration": 112,
    "start_time": "2022-09-14T09:53:27.535Z"
   },
   {
    "duration": 183,
    "start_time": "2022-09-14T09:53:27.649Z"
   },
   {
    "duration": 16,
    "start_time": "2022-09-14T09:53:27.833Z"
   },
   {
    "duration": 7,
    "start_time": "2022-09-14T09:53:27.901Z"
   },
   {
    "duration": 4,
    "start_time": "2022-09-14T09:53:27.909Z"
   },
   {
    "duration": 96,
    "start_time": "2022-09-14T09:53:27.915Z"
   },
   {
    "duration": 336,
    "start_time": "2022-09-14T09:53:28.013Z"
   },
   {
    "duration": 894,
    "start_time": "2022-09-14T09:53:28.350Z"
   },
   {
    "duration": 3,
    "start_time": "2022-09-14T09:53:29.246Z"
   },
   {
    "duration": 14,
    "start_time": "2022-09-14T09:53:29.250Z"
   },
   {
    "duration": 8,
    "start_time": "2022-09-14T09:53:29.266Z"
   },
   {
    "duration": 275,
    "start_time": "2022-09-14T09:53:29.276Z"
   },
   {
    "duration": 192,
    "start_time": "2022-09-14T09:53:29.552Z"
   },
   {
    "duration": 7,
    "start_time": "2022-09-14T09:53:29.746Z"
   },
   {
    "duration": 297,
    "start_time": "2022-09-14T09:53:29.755Z"
   },
   {
    "duration": 19,
    "start_time": "2022-09-14T09:53:30.054Z"
   },
   {
    "duration": 153,
    "start_time": "2022-09-14T09:53:30.077Z"
   },
   {
    "duration": 157,
    "start_time": "2022-09-14T09:53:30.233Z"
   },
   {
    "duration": 169,
    "start_time": "2022-09-14T09:53:30.392Z"
   },
   {
    "duration": 19,
    "start_time": "2022-09-14T09:53:30.564Z"
   },
   {
    "duration": 358,
    "start_time": "2022-09-14T09:53:30.585Z"
   },
   {
    "duration": 1360,
    "start_time": "2022-09-14T09:53:30.945Z"
   },
   {
    "duration": 185,
    "start_time": "2022-09-14T09:53:32.307Z"
   },
   {
    "duration": 95,
    "start_time": "2022-09-14T09:53:32.494Z"
   },
   {
    "duration": 179,
    "start_time": "2022-09-14T09:53:32.590Z"
   },
   {
    "duration": 106,
    "start_time": "2022-09-14T09:53:32.771Z"
   },
   {
    "duration": 107,
    "start_time": "2022-09-14T09:53:32.879Z"
   },
   {
    "duration": 125,
    "start_time": "2022-09-14T09:53:32.988Z"
   },
   {
    "duration": 88,
    "start_time": "2022-09-14T09:53:33.115Z"
   },
   {
    "duration": 84,
    "start_time": "2022-09-14T09:53:33.204Z"
   },
   {
    "duration": 191,
    "start_time": "2022-09-14T09:53:33.301Z"
   },
   {
    "duration": 11,
    "start_time": "2022-09-14T09:53:33.494Z"
   },
   {
    "duration": 13,
    "start_time": "2022-09-14T09:53:33.506Z"
   },
   {
    "duration": 9,
    "start_time": "2022-09-14T09:53:33.521Z"
   },
   {
    "duration": 1428,
    "start_time": "2022-09-14T09:58:34.171Z"
   },
   {
    "duration": 18,
    "start_time": "2022-09-14T09:58:45.456Z"
   },
   {
    "duration": 8,
    "start_time": "2022-09-14T09:58:54.107Z"
   },
   {
    "duration": 9,
    "start_time": "2022-09-14T09:59:27.372Z"
   },
   {
    "duration": 10,
    "start_time": "2022-09-14T09:59:46.578Z"
   },
   {
    "duration": 11,
    "start_time": "2022-09-14T10:00:21.058Z"
   },
   {
    "duration": 7,
    "start_time": "2022-09-14T10:00:44.321Z"
   },
   {
    "duration": 58,
    "start_time": "2022-09-14T10:01:37.280Z"
   },
   {
    "duration": 23,
    "start_time": "2022-09-14T10:01:45.417Z"
   },
   {
    "duration": 179,
    "start_time": "2022-09-14T10:01:59.008Z"
   },
   {
    "duration": 633,
    "start_time": "2022-09-14T10:03:26.280Z"
   },
   {
    "duration": 1271,
    "start_time": "2022-09-14T10:03:43.287Z"
   },
   {
    "duration": 15,
    "start_time": "2022-09-14T10:05:43.830Z"
   },
   {
    "duration": 14,
    "start_time": "2022-09-14T10:05:47.157Z"
   },
   {
    "duration": 35,
    "start_time": "2022-09-14T10:06:19.942Z"
   },
   {
    "duration": 20,
    "start_time": "2022-09-14T10:06:42.653Z"
   },
   {
    "duration": 16,
    "start_time": "2022-09-14T10:06:47.517Z"
   },
   {
    "duration": 10,
    "start_time": "2022-09-14T10:06:59.133Z"
   },
   {
    "duration": 8,
    "start_time": "2022-09-14T10:07:10.172Z"
   },
   {
    "duration": 494,
    "start_time": "2022-09-14T10:07:56.539Z"
   },
   {
    "duration": 820,
    "start_time": "2022-09-14T10:08:17.068Z"
   },
   {
    "duration": 1685,
    "start_time": "2022-09-14T10:08:40.820Z"
   },
   {
    "duration": 1840,
    "start_time": "2022-09-14T10:09:09.468Z"
   },
   {
    "duration": 1880,
    "start_time": "2022-09-14T10:09:23.252Z"
   },
   {
    "duration": 1554,
    "start_time": "2022-09-14T10:09:47.379Z"
   },
   {
    "duration": 1620,
    "start_time": "2022-09-14T10:09:53.467Z"
   },
   {
    "duration": 1076,
    "start_time": "2022-09-14T10:10:24.454Z"
   },
   {
    "duration": 1533,
    "start_time": "2022-09-14T10:10:42.322Z"
   },
   {
    "duration": 1088,
    "start_time": "2022-09-14T10:11:45.561Z"
   },
   {
    "duration": 28,
    "start_time": "2022-09-14T10:12:10.017Z"
   },
   {
    "duration": 29,
    "start_time": "2022-09-14T10:12:15.409Z"
   },
   {
    "duration": 97,
    "start_time": "2022-09-14T10:13:52.480Z"
   },
   {
    "duration": 30,
    "start_time": "2022-09-14T10:14:01.753Z"
   },
   {
    "duration": 1252,
    "start_time": "2022-09-14T10:14:44.150Z"
   },
   {
    "duration": 8,
    "start_time": "2022-09-14T10:16:09.933Z"
   },
   {
    "duration": 12,
    "start_time": "2022-09-14T10:19:05.324Z"
   },
   {
    "duration": 963,
    "start_time": "2022-09-14T10:19:16.212Z"
   },
   {
    "duration": 8,
    "start_time": "2022-09-14T10:19:23.235Z"
   },
   {
    "duration": 3,
    "start_time": "2022-09-14T10:21:43.583Z"
   },
   {
    "duration": 18,
    "start_time": "2022-09-14T10:21:43.588Z"
   },
   {
    "duration": 224,
    "start_time": "2022-09-14T10:21:43.609Z"
   },
   {
    "duration": 13,
    "start_time": "2022-09-14T10:21:43.836Z"
   },
   {
    "duration": 779,
    "start_time": "2022-09-14T10:21:43.851Z"
   },
   {
    "duration": 4,
    "start_time": "2022-09-14T10:21:44.632Z"
   },
   {
    "duration": 45,
    "start_time": "2022-09-14T10:21:44.637Z"
   },
   {
    "duration": 40,
    "start_time": "2022-09-14T10:21:44.685Z"
   },
   {
    "duration": 15,
    "start_time": "2022-09-14T10:21:44.729Z"
   },
   {
    "duration": 34,
    "start_time": "2022-09-14T10:21:44.747Z"
   },
   {
    "duration": 20,
    "start_time": "2022-09-14T10:21:44.783Z"
   },
   {
    "duration": 140,
    "start_time": "2022-09-14T10:21:44.805Z"
   },
   {
    "duration": 145,
    "start_time": "2022-09-14T10:21:44.947Z"
   },
   {
    "duration": 28,
    "start_time": "2022-09-14T10:21:45.101Z"
   },
   {
    "duration": 15,
    "start_time": "2022-09-14T10:21:45.131Z"
   },
   {
    "duration": 16,
    "start_time": "2022-09-14T10:21:45.148Z"
   },
   {
    "duration": 94,
    "start_time": "2022-09-14T10:21:45.166Z"
   },
   {
    "duration": 397,
    "start_time": "2022-09-14T10:21:45.263Z"
   },
   {
    "duration": 1021,
    "start_time": "2022-09-14T10:21:45.662Z"
   },
   {
    "duration": 16,
    "start_time": "2022-09-14T10:21:46.685Z"
   },
   {
    "duration": 23,
    "start_time": "2022-09-14T10:21:46.702Z"
   },
   {
    "duration": 7,
    "start_time": "2022-09-14T10:21:46.730Z"
   },
   {
    "duration": 975,
    "start_time": "2022-09-14T10:21:46.738Z"
   },
   {
    "duration": 7,
    "start_time": "2022-09-14T10:21:47.717Z"
   },
   {
    "duration": 288,
    "start_time": "2022-09-14T10:21:47.726Z"
   },
   {
    "duration": 18,
    "start_time": "2022-09-14T10:21:48.016Z"
   },
   {
    "duration": 141,
    "start_time": "2022-09-14T10:21:48.036Z"
   },
   {
    "duration": 164,
    "start_time": "2022-09-14T10:21:48.179Z"
   },
   {
    "duration": 164,
    "start_time": "2022-09-14T10:21:48.345Z"
   },
   {
    "duration": 20,
    "start_time": "2022-09-14T10:21:48.511Z"
   },
   {
    "duration": 432,
    "start_time": "2022-09-14T10:21:48.532Z"
   },
   {
    "duration": 1364,
    "start_time": "2022-09-14T10:21:48.966Z"
   },
   {
    "duration": 102,
    "start_time": "2022-09-14T10:21:50.332Z"
   },
   {
    "duration": 94,
    "start_time": "2022-09-14T10:21:50.435Z"
   },
   {
    "duration": 121,
    "start_time": "2022-09-14T10:21:50.531Z"
   },
   {
    "duration": 97,
    "start_time": "2022-09-14T10:21:50.654Z"
   },
   {
    "duration": 114,
    "start_time": "2022-09-14T10:21:50.753Z"
   },
   {
    "duration": 142,
    "start_time": "2022-09-14T10:21:50.869Z"
   },
   {
    "duration": 73,
    "start_time": "2022-09-14T10:21:51.013Z"
   },
   {
    "duration": 183,
    "start_time": "2022-09-14T10:21:51.088Z"
   },
   {
    "duration": 116,
    "start_time": "2022-09-14T10:21:51.273Z"
   },
   {
    "duration": 17,
    "start_time": "2022-09-14T10:21:51.391Z"
   },
   {
    "duration": 23,
    "start_time": "2022-09-14T10:21:51.409Z"
   },
   {
    "duration": 16,
    "start_time": "2022-09-14T10:21:51.434Z"
   },
   {
    "duration": 465,
    "start_time": "2022-09-14T10:23:11.464Z"
   },
   {
    "duration": 399,
    "start_time": "2022-09-14T10:23:18.570Z"
   },
   {
    "duration": 760,
    "start_time": "2022-09-14T10:23:27.108Z"
   },
   {
    "duration": 603,
    "start_time": "2022-09-14T10:23:33.401Z"
   },
   {
    "duration": 592,
    "start_time": "2022-09-14T10:23:41.681Z"
   },
   {
    "duration": 549,
    "start_time": "2022-09-14T10:24:00.497Z"
   },
   {
    "duration": 149,
    "start_time": "2022-09-14T10:27:42.175Z"
   },
   {
    "duration": 19,
    "start_time": "2022-09-14T10:31:57.197Z"
   },
   {
    "duration": 93,
    "start_time": "2022-09-14T10:32:09.252Z"
   },
   {
    "duration": 16,
    "start_time": "2022-09-14T10:32:18.309Z"
   },
   {
    "duration": 1006,
    "start_time": "2022-09-14T10:33:18.317Z"
   },
   {
    "duration": 5,
    "start_time": "2022-09-14T10:33:34.858Z"
   },
   {
    "duration": 995,
    "start_time": "2022-09-14T10:33:37.587Z"
   },
   {
    "duration": 961,
    "start_time": "2022-09-14T10:33:52.267Z"
   },
   {
    "duration": 929,
    "start_time": "2022-09-14T10:34:11.042Z"
   },
   {
    "duration": 108,
    "start_time": "2022-09-14T10:34:52.962Z"
   },
   {
    "duration": 59,
    "start_time": "2022-09-14T10:35:35.515Z"
   },
   {
    "duration": 1223,
    "start_time": "2022-09-14T10:35:50.521Z"
   },
   {
    "duration": 307,
    "start_time": "2022-09-14T10:37:05.624Z"
   },
   {
    "duration": 281,
    "start_time": "2022-09-14T10:37:18.440Z"
   },
   {
    "duration": 890,
    "start_time": "2022-09-14T10:38:28.273Z"
   },
   {
    "duration": 541,
    "start_time": "2022-09-14T11:45:31.100Z"
   },
   {
    "duration": 820,
    "start_time": "2022-09-14T11:46:05.150Z"
   },
   {
    "duration": 857,
    "start_time": "2022-09-14T11:46:40.164Z"
   },
   {
    "duration": 1493,
    "start_time": "2022-09-14T11:47:43.263Z"
   },
   {
    "duration": 1378,
    "start_time": "2022-09-14T11:47:50.691Z"
   },
   {
    "duration": 1541,
    "start_time": "2022-09-14T11:48:00.491Z"
   },
   {
    "duration": 1666,
    "start_time": "2022-09-14T11:48:07.659Z"
   },
   {
    "duration": 1338,
    "start_time": "2022-09-14T11:48:11.386Z"
   },
   {
    "duration": 687,
    "start_time": "2022-09-14T11:48:26.322Z"
   },
   {
    "duration": 84,
    "start_time": "2022-09-14T15:22:43.033Z"
   },
   {
    "duration": 84,
    "start_time": "2022-09-14T15:23:03.688Z"
   },
   {
    "duration": 193,
    "start_time": "2022-09-14T15:23:08.897Z"
   },
   {
    "duration": 85,
    "start_time": "2022-09-14T15:23:12.857Z"
   },
   {
    "duration": 69,
    "start_time": "2022-09-14T15:23:16.841Z"
   },
   {
    "duration": 92,
    "start_time": "2022-09-14T15:23:18.832Z"
   },
   {
    "duration": 88,
    "start_time": "2022-09-14T15:23:23.008Z"
   },
   {
    "duration": 82,
    "start_time": "2022-09-14T15:23:29.240Z"
   },
   {
    "duration": 100,
    "start_time": "2022-09-14T15:23:34.600Z"
   },
   {
    "duration": 88,
    "start_time": "2022-09-14T15:23:47.904Z"
   },
   {
    "duration": 88,
    "start_time": "2022-09-14T15:23:50.768Z"
   },
   {
    "duration": 84,
    "start_time": "2022-09-14T15:24:33.871Z"
   },
   {
    "duration": 93,
    "start_time": "2022-09-14T15:24:44.343Z"
   },
   {
    "duration": 975,
    "start_time": "2022-09-14T15:32:38.657Z"
   },
   {
    "duration": 14,
    "start_time": "2022-09-14T15:32:55.866Z"
   },
   {
    "duration": 707,
    "start_time": "2022-09-14T15:33:14.586Z"
   },
   {
    "duration": 6,
    "start_time": "2022-09-14T15:33:23.601Z"
   },
   {
    "duration": 4,
    "start_time": "2022-09-14T15:33:35.249Z"
   },
   {
    "duration": 5,
    "start_time": "2022-09-14T15:33:43.433Z"
   },
   {
    "duration": 4,
    "start_time": "2022-09-14T15:34:31.809Z"
   },
   {
    "duration": 4,
    "start_time": "2022-09-14T15:34:45.801Z"
   },
   {
    "duration": 4,
    "start_time": "2022-09-14T15:35:25.824Z"
   },
   {
    "duration": 4,
    "start_time": "2022-09-14T15:35:55.072Z"
   },
   {
    "duration": 4,
    "start_time": "2022-09-14T15:35:57.680Z"
   },
   {
    "duration": 29455,
    "start_time": "2022-09-14T15:48:06.658Z"
   },
   {
    "duration": 3,
    "start_time": "2022-09-14T15:48:36.115Z"
   },
   {
    "duration": 168,
    "start_time": "2022-09-14T15:48:36.120Z"
   },
   {
    "duration": 14,
    "start_time": "2022-09-14T15:48:36.290Z"
   },
   {
    "duration": 582,
    "start_time": "2022-09-14T15:48:36.305Z"
   },
   {
    "duration": 3,
    "start_time": "2022-09-14T15:48:36.888Z"
   },
   {
    "duration": 29,
    "start_time": "2022-09-14T15:48:36.892Z"
   },
   {
    "duration": 13,
    "start_time": "2022-09-14T15:48:36.922Z"
   },
   {
    "duration": 6,
    "start_time": "2022-09-14T15:48:36.937Z"
   },
   {
    "duration": 15,
    "start_time": "2022-09-14T15:48:36.946Z"
   },
   {
    "duration": 39,
    "start_time": "2022-09-14T15:48:36.963Z"
   },
   {
    "duration": 112,
    "start_time": "2022-09-14T15:48:37.003Z"
   },
   {
    "duration": 121,
    "start_time": "2022-09-14T15:48:37.116Z"
   },
   {
    "duration": 15,
    "start_time": "2022-09-14T15:48:37.238Z"
   },
   {
    "duration": 5,
    "start_time": "2022-09-14T15:48:37.255Z"
   },
   {
    "duration": 5,
    "start_time": "2022-09-14T15:48:37.261Z"
   },
   {
    "duration": 80,
    "start_time": "2022-09-14T15:48:37.267Z"
   },
   {
    "duration": 287,
    "start_time": "2022-09-14T15:48:37.348Z"
   },
   {
    "duration": 837,
    "start_time": "2022-09-14T15:48:37.636Z"
   },
   {
    "duration": 8,
    "start_time": "2022-09-14T15:48:38.474Z"
   },
   {
    "duration": 40,
    "start_time": "2022-09-14T15:48:38.483Z"
   },
   {
    "duration": 33,
    "start_time": "2022-09-14T15:48:38.524Z"
   },
   {
    "duration": 999,
    "start_time": "2022-09-14T15:48:38.558Z"
   },
   {
    "duration": 6,
    "start_time": "2022-09-14T15:48:39.558Z"
   },
   {
    "duration": 541,
    "start_time": "2022-09-14T15:48:39.566Z"
   },
   {
    "duration": 1071,
    "start_time": "2022-09-14T15:48:40.109Z"
   },
   {
    "duration": 983,
    "start_time": "2022-09-14T15:48:41.182Z"
   },
   {
    "duration": 337,
    "start_time": "2022-09-14T15:48:42.169Z"
   },
   {
    "duration": 17,
    "start_time": "2022-09-14T15:48:42.507Z"
   },
   {
    "duration": 378,
    "start_time": "2022-09-14T15:48:42.525Z"
   },
   {
    "duration": 1251,
    "start_time": "2022-09-14T15:48:42.905Z"
   },
   {
    "duration": 631,
    "start_time": "2022-09-14T15:48:44.158Z"
   },
   {
    "duration": 74,
    "start_time": "2022-09-14T15:48:44.790Z"
   },
   {
    "duration": 104,
    "start_time": "2022-09-14T15:48:44.865Z"
   },
   {
    "duration": 107,
    "start_time": "2022-09-14T15:48:44.970Z"
   },
   {
    "duration": 79,
    "start_time": "2022-09-14T15:48:45.079Z"
   },
   {
    "duration": 103,
    "start_time": "2022-09-14T15:48:45.159Z"
   },
   {
    "duration": 219,
    "start_time": "2022-09-14T15:48:45.264Z"
   },
   {
    "duration": 76,
    "start_time": "2022-09-14T15:48:45.484Z"
   },
   {
    "duration": 105,
    "start_time": "2022-09-14T15:48:45.561Z"
   },
   {
    "duration": 112,
    "start_time": "2022-09-14T15:48:45.667Z"
   },
   {
    "duration": 8,
    "start_time": "2022-09-14T15:48:45.780Z"
   },
   {
    "duration": 17,
    "start_time": "2022-09-14T15:48:45.790Z"
   },
   {
    "duration": 6,
    "start_time": "2022-09-14T15:48:45.808Z"
   },
   {
    "duration": 8,
    "start_time": "2022-09-14T15:48:45.815Z"
   },
   {
    "duration": 7,
    "start_time": "2022-09-14T15:48:45.824Z"
   },
   {
    "duration": 1323,
    "start_time": "2022-09-15T11:20:17.532Z"
   },
   {
    "duration": 4,
    "start_time": "2022-09-15T11:20:18.856Z"
   },
   {
    "duration": 193,
    "start_time": "2022-09-15T11:20:18.862Z"
   },
   {
    "duration": 13,
    "start_time": "2022-09-15T11:20:19.057Z"
   },
   {
    "duration": 630,
    "start_time": "2022-09-15T11:20:19.072Z"
   },
   {
    "duration": 10,
    "start_time": "2022-09-15T11:20:19.709Z"
   },
   {
    "duration": 26,
    "start_time": "2022-09-15T11:20:19.725Z"
   },
   {
    "duration": 14,
    "start_time": "2022-09-15T11:20:19.753Z"
   },
   {
    "duration": 6,
    "start_time": "2022-09-15T11:20:19.768Z"
   },
   {
    "duration": 51,
    "start_time": "2022-09-15T11:20:19.776Z"
   },
   {
    "duration": 8,
    "start_time": "2022-09-15T11:20:19.829Z"
   },
   {
    "duration": 125,
    "start_time": "2022-09-15T11:20:19.839Z"
   },
   {
    "duration": 132,
    "start_time": "2022-09-15T11:20:19.965Z"
   },
   {
    "duration": 26,
    "start_time": "2022-09-15T11:20:20.100Z"
   },
   {
    "duration": 13,
    "start_time": "2022-09-15T11:20:20.129Z"
   },
   {
    "duration": 13,
    "start_time": "2022-09-15T11:20:20.144Z"
   },
   {
    "duration": 105,
    "start_time": "2022-09-15T11:20:20.159Z"
   },
   {
    "duration": 384,
    "start_time": "2022-09-15T11:20:20.266Z"
   },
   {
    "duration": 992,
    "start_time": "2022-09-15T11:20:20.651Z"
   },
   {
    "duration": 7,
    "start_time": "2022-09-15T11:20:21.644Z"
   },
   {
    "duration": 9,
    "start_time": "2022-09-15T11:20:21.653Z"
   },
   {
    "duration": 7,
    "start_time": "2022-09-15T11:20:21.664Z"
   },
   {
    "duration": 954,
    "start_time": "2022-09-15T11:20:21.673Z"
   },
   {
    "duration": 8,
    "start_time": "2022-09-15T11:20:22.629Z"
   },
   {
    "duration": 554,
    "start_time": "2022-09-15T11:20:22.639Z"
   },
   {
    "duration": 969,
    "start_time": "2022-09-15T11:20:23.195Z"
   },
   {
    "duration": 1019,
    "start_time": "2022-09-15T11:20:24.165Z"
   },
   {
    "duration": 302,
    "start_time": "2022-09-15T11:20:25.185Z"
   },
   {
    "duration": 38,
    "start_time": "2022-09-15T11:20:25.488Z"
   },
   {
    "duration": 367,
    "start_time": "2022-09-15T11:20:25.527Z"
   },
   {
    "duration": 1288,
    "start_time": "2022-09-15T11:20:25.895Z"
   },
   {
    "duration": 579,
    "start_time": "2022-09-15T11:20:27.185Z"
   },
   {
    "duration": 84,
    "start_time": "2022-09-15T11:20:27.766Z"
   },
   {
    "duration": 104,
    "start_time": "2022-09-15T11:20:27.851Z"
   },
   {
    "duration": 120,
    "start_time": "2022-09-15T11:20:27.956Z"
   },
   {
    "duration": 88,
    "start_time": "2022-09-15T11:20:28.078Z"
   },
   {
    "duration": 198,
    "start_time": "2022-09-15T11:20:28.168Z"
   },
   {
    "duration": 122,
    "start_time": "2022-09-15T11:20:28.367Z"
   },
   {
    "duration": 141,
    "start_time": "2022-09-15T11:20:28.491Z"
   },
   {
    "duration": 133,
    "start_time": "2022-09-15T11:20:28.634Z"
   },
   {
    "duration": 127,
    "start_time": "2022-09-15T11:20:28.772Z"
   },
   {
    "duration": 28,
    "start_time": "2022-09-15T11:20:28.902Z"
   },
   {
    "duration": 18,
    "start_time": "2022-09-15T11:20:28.932Z"
   },
   {
    "duration": 9,
    "start_time": "2022-09-15T11:20:28.952Z"
   },
   {
    "duration": 9,
    "start_time": "2022-09-15T11:20:28.963Z"
   },
   {
    "duration": 10,
    "start_time": "2022-09-15T11:20:28.974Z"
   }
  ],
  "kernelspec": {
   "display_name": "Python 3 (ipykernel)",
   "language": "python",
   "name": "python3"
  },
  "language_info": {
   "codemirror_mode": {
    "name": "ipython",
    "version": 3
   },
   "file_extension": ".py",
   "mimetype": "text/x-python",
   "name": "python",
   "nbconvert_exporter": "python",
   "pygments_lexer": "ipython3",
   "version": "3.9.12"
  },
  "toc": {
   "base_numbering": 1,
   "nav_menu": {},
   "number_sections": true,
   "sideBar": true,
   "skip_h1_title": true,
   "title_cell": "Table of Contents",
   "title_sidebar": "Contents",
   "toc_cell": false,
   "toc_position": {
    "height": "calc(100% - 180px)",
    "left": "10px",
    "top": "150px",
    "width": "206.682px"
   },
   "toc_section_display": true,
   "toc_window_display": true
  }
 },
 "nbformat": 4,
 "nbformat_minor": 5
}
